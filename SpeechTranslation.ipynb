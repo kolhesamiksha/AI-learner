{
  "nbformat": 4,
  "nbformat_minor": 0,
  "metadata": {
    "colab": {
      "name": "SpeechTranslation.ipynb",
      "provenance": [],
      "collapsed_sections": [],
      "authorship_tag": "ABX9TyPVNxBGm8HiNI9qJyn6aCTC",
      "include_colab_link": true
    },
    "kernelspec": {
      "name": "python3",
      "display_name": "Python 3"
    },
    "language_info": {
      "name": "python"
    }
  },
  "cells": [
    {
      "cell_type": "markdown",
      "metadata": {
        "id": "view-in-github",
        "colab_type": "text"
      },
      "source": [
        "<a href=\"https://colab.research.google.com/github/kolhesamiksha/AI-learner/blob/main/SpeechTranslation.ipynb\" target=\"_parent\"><img src=\"https://colab.research.google.com/assets/colab-badge.svg\" alt=\"Open In Colab\"/></a>"
      ]
    },
    {
      "cell_type": "markdown",
      "metadata": {
        "id": "HelJpQqQ3ur3"
      },
      "source": [
        "1.**Authenticate**"
      ]
    },
    {
      "cell_type": "code",
      "metadata": {
        "colab": {
          "base_uri": "https://localhost:8080/"
        },
        "id": "x9hkNwY04ngE",
        "outputId": "a93efa00-cf9d-4814-d4c6-b31762526469"
      },
      "source": [
        "!pip install ibm-watson"
      ],
      "execution_count": 3,
      "outputs": [
        {
          "output_type": "stream",
          "text": [
            "Collecting ibm-watson\n",
            "\u001b[?25l  Downloading https://files.pythonhosted.org/packages/9b/88/395d7d52df29f321ae1150cf9b5a71cef8611570230502597c427bc1e9d9/ibm-watson-5.1.0.tar.gz (382kB)\n",
            "\u001b[K     |████████████████████████████████| 389kB 4.4MB/s \n",
            "\u001b[?25hRequirement already satisfied: requests<3.0,>=2.0 in /usr/local/lib/python3.7/dist-packages (from ibm-watson) (2.23.0)\n",
            "Requirement already satisfied: python_dateutil>=2.5.3 in /usr/local/lib/python3.7/dist-packages (from ibm-watson) (2.8.1)\n",
            "Collecting websocket-client==0.48.0\n",
            "\u001b[?25l  Downloading https://files.pythonhosted.org/packages/8a/a1/72ef9aa26cfe1a75cee09fc1957e4723add9de098c15719416a1ee89386b/websocket_client-0.48.0-py2.py3-none-any.whl (198kB)\n",
            "\u001b[K     |████████████████████████████████| 204kB 8.0MB/s \n",
            "\u001b[?25hCollecting ibm_cloud_sdk_core>=3.3.6\n",
            "  Downloading https://files.pythonhosted.org/packages/dd/24/ba1f1ac7e6dad5efe88362fe9fcf548f7104daf3ed4ec2333b2ae35a7a21/ibm-cloud-sdk-core-3.9.0.tar.gz\n",
            "Requirement already satisfied: idna<3,>=2.5 in /usr/local/lib/python3.7/dist-packages (from requests<3.0,>=2.0->ibm-watson) (2.10)\n",
            "Requirement already satisfied: chardet<4,>=3.0.2 in /usr/local/lib/python3.7/dist-packages (from requests<3.0,>=2.0->ibm-watson) (3.0.4)\n",
            "Requirement already satisfied: urllib3!=1.25.0,!=1.25.1,<1.26,>=1.21.1 in /usr/local/lib/python3.7/dist-packages (from requests<3.0,>=2.0->ibm-watson) (1.24.3)\n",
            "Requirement already satisfied: certifi>=2017.4.17 in /usr/local/lib/python3.7/dist-packages (from requests<3.0,>=2.0->ibm-watson) (2020.12.5)\n",
            "Requirement already satisfied: six>=1.5 in /usr/local/lib/python3.7/dist-packages (from python_dateutil>=2.5.3->ibm-watson) (1.15.0)\n",
            "Collecting PyJWT<3.0.0,>=2.0.1\n",
            "  Downloading https://files.pythonhosted.org/packages/b4/9b/8850f99027ed029af6828199cc87179eaccbbf1f9e6e373e7f0177d32dad/PyJWT-2.0.1-py3-none-any.whl\n",
            "Building wheels for collected packages: ibm-watson, ibm-cloud-sdk-core\n",
            "  Building wheel for ibm-watson (setup.py) ... \u001b[?25l\u001b[?25hdone\n",
            "  Created wheel for ibm-watson: filename=ibm_watson-5.1.0-cp37-none-any.whl size=375439 sha256=0471a32e8cd788888dd367377e8aa175cd1b5e6f60c69e783af442d61f3660e0\n",
            "  Stored in directory: /root/.cache/pip/wheels/49/6d/cf/1d91261b96363da78bf9b02699fd2262e6b5dad179500690c1\n",
            "  Building wheel for ibm-cloud-sdk-core (setup.py) ... \u001b[?25l\u001b[?25hdone\n",
            "  Created wheel for ibm-cloud-sdk-core: filename=ibm_cloud_sdk_core-3.9.0-cp37-none-any.whl size=59612 sha256=95ef900b5d3a3ac7e82c3bd567b5ec81b0b4093ebfa2f94c1015e71bff4a5155\n",
            "  Stored in directory: /root/.cache/pip/wheels/a2/23/f2/ae9db79b4234ed0fc74bf00bc97bcd16440ab2764c5f443167\n",
            "Successfully built ibm-watson ibm-cloud-sdk-core\n",
            "Installing collected packages: websocket-client, PyJWT, ibm-cloud-sdk-core, ibm-watson\n",
            "Successfully installed PyJWT-2.0.1 ibm-cloud-sdk-core-3.9.0 ibm-watson-5.1.0 websocket-client-0.48.0\n"
          ],
          "name": "stdout"
        }
      ]
    },
    {
      "cell_type": "code",
      "metadata": {
        "id": "ARpxBLR-3llO"
      },
      "source": [
        "from ibm_watson import SpeechToTextV1, LanguageTranslatorV3     #these are the objects which helps to work with api's\n",
        "from ibm_cloud_sdk_core.authenticators import IAMAuthenticator   #IAM authenticator allows us to authenticate against two services and use our cloud services"
      ],
      "execution_count": 5,
      "outputs": []
    },
    {
      "cell_type": "code",
      "metadata": {
        "id": "_u9L1isM4a4y"
      },
      "source": [
        "ltapikey = 'RjbDNsiCf8zG1lR-PuKqb5exVyZzQFx2Tce4qKq2z-TU'           #lt means language translator apikeys and url\n",
        "lturl = 'https://api.eu-gb.language-translator.watson.cloud.ibm.com/instances/33de5b37-d88f-46d8-bdbc-34c94790cfb7'\n",
        "sttapikey = '8z_SZDPWikKhbh7aIUjD7O8Bc49ofweP-_AblYMzPWnB'           #it means speech to text api and url\n",
        "stturl = 'https://api.eu-gb.speech-to-text.watson.cloud.ibm.com/instances/3e9eef45-87b4-4a86-8d45-6a13917e4635'"
      ],
      "execution_count": 6,
      "outputs": []
    },
    {
      "cell_type": "code",
      "metadata": {
        "id": "L2XShheu-Ulf"
      },
      "source": [
        "ltauthenticator = IAMAuthenticator(ltapikey)         #give authenticator object\n",
        "lt = LanguageTranslatorV3(version = '2018-05-01',authenticator = ltauthenticator)  #created new language translator objectV3\n",
        "lt.set_service_url(lturl)                                                     #it tells us which version of the service we are using in the www,coz there are no of different regions"
      ],
      "execution_count": 7,
      "outputs": []
    },
    {
      "cell_type": "code",
      "metadata": {
        "id": "RcqMCwbh_2ER"
      },
      "source": [
        "sttauthenticator = IAMAuthenticator(sttapikey)\n",
        "stt = SpeechToTextV1(authenticator = sttauthenticator)\n",
        "stt.set_service_url(stturl)"
      ],
      "execution_count": 8,
      "outputs": []
    },
    {
      "cell_type": "code",
      "metadata": {
        "colab": {
          "base_uri": "https://localhost:8080/"
        },
        "id": "1EFK02iPCpSp",
        "outputId": "92ec928d-108e-40bf-9629-923bbb3c24c1"
      },
      "source": [
        "pip install text-to-speech"
      ],
      "execution_count": 11,
      "outputs": [
        {
          "output_type": "stream",
          "text": [
            "Collecting text-to-speech\n",
            "  Downloading https://files.pythonhosted.org/packages/a3/d5/45dbe95d096d790f00c9eed466f5b9afd87ef7628a7d56ec5e89cb03b64b/text_to_speech-1.5.2-py3-none-any.whl\n",
            "Collecting playsound>=1.2.2\n",
            "  Downloading https://files.pythonhosted.org/packages/f5/16/10d897b0a83fb4b05b03a63d7a2667ab75f857f67f7062fd447dd3f49bf7/playsound-1.2.2-py2.py3-none-any.whl\n",
            "Collecting gTTS>=2.0.4\n",
            "  Downloading https://files.pythonhosted.org/packages/5f/b9/94e59337107be134b21ce395a29fc0715b707b560108d6797de2d93e1178/gTTS-2.2.2-py3-none-any.whl\n",
            "Requirement already satisfied: click in /usr/local/lib/python3.7/dist-packages (from gTTS>=2.0.4->text-to-speech) (7.1.2)\n",
            "Requirement already satisfied: requests in /usr/local/lib/python3.7/dist-packages (from gTTS>=2.0.4->text-to-speech) (2.23.0)\n",
            "Requirement already satisfied: six in /usr/local/lib/python3.7/dist-packages (from gTTS>=2.0.4->text-to-speech) (1.15.0)\n",
            "Requirement already satisfied: idna<3,>=2.5 in /usr/local/lib/python3.7/dist-packages (from requests->gTTS>=2.0.4->text-to-speech) (2.10)\n",
            "Requirement already satisfied: urllib3!=1.25.0,!=1.25.1,<1.26,>=1.21.1 in /usr/local/lib/python3.7/dist-packages (from requests->gTTS>=2.0.4->text-to-speech) (1.24.3)\n",
            "Requirement already satisfied: certifi>=2017.4.17 in /usr/local/lib/python3.7/dist-packages (from requests->gTTS>=2.0.4->text-to-speech) (2020.12.5)\n",
            "Requirement already satisfied: chardet<4,>=3.0.2 in /usr/local/lib/python3.7/dist-packages (from requests->gTTS>=2.0.4->text-to-speech) (3.0.4)\n",
            "Installing collected packages: playsound, gTTS, text-to-speech\n",
            "Successfully installed gTTS-2.2.2 playsound-1.2.2 text-to-speech-1.5.2\n"
          ],
          "name": "stdout"
        }
      ]
    },
    {
      "cell_type": "markdown",
      "metadata": {
        "id": "uR3ZrFxIXPHe"
      },
      "source": [
        "**2.Speech to text**"
      ]
    },
    {
      "cell_type": "code",
      "metadata": {
        "id": "nN4mRG9ZDBtD"
      },
      "source": [
        "with open('/content/Dynnnnnanana-eh.mp3','rb') as f:\n",
        "  res = stt.recognize(audio = f, content_type = 'audio/mp3', model = 'en-AU_NarrowbandModel',continous = True).get_result()"
      ],
      "execution_count": 103,
      "outputs": []
    },
    {
      "cell_type": "code",
      "metadata": {
        "colab": {
          "base_uri": "https://localhost:8080/"
        },
        "id": "hHI6TwWqCk2B",
        "outputId": "cd221a2a-b1dd-4f9d-f4d3-22938fafec01"
      },
      "source": [
        "res"
      ],
      "execution_count": 104,
      "outputs": [
        {
          "output_type": "execute_result",
          "data": {
            "text/plain": [
              "{'result_index': 0,\n",
              " 'results': [{'alternatives': [{'confidence': 0.23,\n",
              "     'transcript': 'transaction '}],\n",
              "   'final': True}]}"
            ]
          },
          "metadata": {
            "tags": []
          },
          "execution_count": 104
        }
      ]
    },
    {
      "cell_type": "code",
      "metadata": {
        "id": "IC0wYbWPAcOW"
      },
      "source": [
        "voicetext = res['results'][0]['alternatives'][0]['transcript']"
      ],
      "execution_count": 106,
      "outputs": []
    },
    {
      "cell_type": "code",
      "metadata": {
        "colab": {
          "base_uri": "https://localhost:8080/",
          "height": 35
        },
        "id": "RAxY5nT1Jkwc",
        "outputId": "9fd481e8-2135-4d4a-e267-68730ecf1e0f"
      },
      "source": [
        "voicetext"
      ],
      "execution_count": 107,
      "outputs": [
        {
          "output_type": "execute_result",
          "data": {
            "application/vnd.google.colaboratory.intrinsic+json": {
              "type": "string"
            },
            "text/plain": [
              "'transaction '"
            ]
          },
          "metadata": {
            "tags": []
          },
          "execution_count": 107
        }
      ]
    },
    {
      "cell_type": "markdown",
      "metadata": {
        "id": "g0tiSdyjXAAj"
      },
      "source": [
        "3**.Text** **Translation**"
      ]
    },
    {
      "cell_type": "code",
      "metadata": {
        "id": "tgvFAELmJnFF"
      },
      "source": [
        "greek = 'en-el'             \n",
        "chinese = 'en-zh'            #3 different language pairs for translating\n",
        "hindi = 'en-hi'   \n",
        "korean = 'en-ko'  \n",
        "Gujarati = 'en-gu' \n",
        "urdu = 'en-ur'   \n",
        "japanese = 'en-ja'\n",
        "telugu = 'en-te' \n",
        "russian = 'en-ru'   #en-hi means english to hindi"
      ],
      "execution_count": 108,
      "outputs": []
    },
    {
      "cell_type": "code",
      "metadata": {
        "id": "PdH9dGgfUzgv"
      },
      "source": [
        "translation = lt.translate(text=voicetext, model_id=hindi).get_result()  #actual text translator"
      ],
      "execution_count": 109,
      "outputs": []
    },
    {
      "cell_type": "code",
      "metadata": {
        "colab": {
          "base_uri": "https://localhost:8080/"
        },
        "id": "TZjUHoLLVEN_",
        "outputId": "4ede3efd-3e9e-4c96-bfc4-5b4b4301d00d"
      },
      "source": [
        "translation"
      ],
      "execution_count": 110,
      "outputs": [
        {
          "output_type": "execute_result",
          "data": {
            "text/plain": [
              "{'character_count': 12,\n",
              " 'translations': [{'translation': 'लेनदेन '}],\n",
              " 'word_count': 1}"
            ]
          },
          "metadata": {
            "tags": []
          },
          "execution_count": 110
        }
      ]
    },
    {
      "cell_type": "code",
      "metadata": {
        "id": "Jl7M8vgFVp_g"
      },
      "source": [
        "translatedText = translation['translations'][0]['translation']"
      ],
      "execution_count": 35,
      "outputs": []
    },
    {
      "cell_type": "code",
      "metadata": {
        "colab": {
          "base_uri": "https://localhost:8080/",
          "height": 35
        },
        "id": "Si0kI9MRW308",
        "outputId": "2161a131-a35c-4126-fd78-b7a647d9a59f"
      },
      "source": [
        "translatedText"
      ],
      "execution_count": 37,
      "outputs": [
        {
          "output_type": "execute_result",
          "data": {
            "application/vnd.google.colaboratory.intrinsic+json": {
              "type": "string"
            },
            "text/plain": [
              "'नमस्ते दुनिया मैं बहुत खुश हूँ आप से मिलने के लिए '"
            ]
          },
          "metadata": {
            "tags": []
          },
          "execution_count": 37
        }
      ]
    },
    {
      "cell_type": "markdown",
      "metadata": {
        "id": "-x3n2j-2Xa5r"
      },
      "source": [
        "**4.Output Translation**"
      ]
    },
    {
      "cell_type": "code",
      "metadata": {
        "id": "OC9xP3YGW6tb"
      },
      "source": [
        "with open('result.txt','w') as f:\n",
        "  f.write(translatedText)"
      ],
      "execution_count": 71,
      "outputs": []
    },
    {
      "cell_type": "code",
      "metadata": {
        "id": "QvRUWcASynMy"
      },
      "source": [
        ""
      ],
      "execution_count": 78,
      "outputs": []
    },
    {
      "cell_type": "code",
      "metadata": {
        "id": "KidDWT82X6ar"
      },
      "source": [
        "\n"
      ],
      "execution_count": 78,
      "outputs": []
    },
    {
      "cell_type": "code",
      "metadata": {
        "id": "WUFhPG_5pcT6"
      },
      "source": [
        ""
      ],
      "execution_count": 77,
      "outputs": []
    },
    {
      "cell_type": "code",
      "metadata": {
        "id": "CjJBlWT3qHOu"
      },
      "source": [
        ""
      ],
      "execution_count": null,
      "outputs": []
    }
  ]
}