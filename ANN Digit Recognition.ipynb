{
 "cells": [
  {
   "cell_type": "code",
   "execution_count": 76,
   "metadata": {},
   "outputs": [
    {
     "name": "stdout",
     "output_type": "stream",
     "text": [
      "Epoch 1/5\n",
      "1875/1875 [==============================] - 5s 3ms/step - loss: 0.3193 - accuracy: 0.9107\n",
      "Epoch 2/5\n",
      "1875/1875 [==============================] - 5s 3ms/step - loss: 0.1169 - accuracy: 0.9643\n",
      "Epoch 3/5\n",
      "1875/1875 [==============================] - 5s 3ms/step - loss: 0.0814 - accuracy: 0.9752\n",
      "Epoch 4/5\n",
      "1875/1875 [==============================] - 5s 3ms/step - loss: 0.0590 - accuracy: 0.9817\n",
      "Epoch 5/5\n",
      "1875/1875 [==============================] - 5s 3ms/step - loss: 0.0438 - accuracy: 0.9857\n"
     ]
    },
    {
     "data": {
      "text/plain": [
       "<tensorflow.python.keras.callbacks.History at 0x2171be6c548>"
      ]
     },
     "execution_count": 76,
     "metadata": {},
     "output_type": "execute_result"
    }
   ],
   "source": [
    "import tensorflow as tf\n",
    "mnist = tf.keras.datasets.mnist\n",
    "(x_train,y_train),(x_test,y_test) = mnist.load_data()\n",
    "x_train = tf.keras.utils.normalize(x_train ,axis = 1)\n",
    "x_test = tf.keras.utils.normalize(x_test ,axis = 1)\n",
    "\n",
    "model = tf.keras.models.Sequential()\n",
    "model.add(tf.keras.layers.Flatten())\n",
    "model.add(tf.keras.layers.Dense(128, activation = 'relu'))\n",
    "model.add(tf.keras.layers.Dense(128, activation = 'relu'))\n",
    "model.add(tf.keras.layers.Dense(128, activation = 'softmax'))\n",
    "\n",
    "model.compile(optimizer = 'adam',loss = 'sparse_categorical_crossentropy',metrics = ['accuracy'])\n",
    "model.fit(x_train,y_train,epochs = 5)"
   ]
  },
  {
   "cell_type": "code",
   "execution_count": 77,
   "metadata": {},
   "outputs": [
    {
     "name": "stdout",
     "output_type": "stream",
     "text": [
      "313/313 [==============================] - 0s 2ms/step - loss: 0.0961 - accuracy: 0.9728\n",
      "0.09612475335597992 0.9728000164031982\n"
     ]
    }
   ],
   "source": [
    "val_loss , val_acc = model.evaluate(x_test,y_test)\n",
    "print(val_loss,val_acc)"
   ]
  },
  {
   "cell_type": "code",
   "execution_count": 78,
   "metadata": {},
   "outputs": [],
   "source": [
    "model.save('model.h5')"
   ]
  },
  {
   "cell_type": "code",
   "execution_count": 79,
   "metadata": {},
   "outputs": [],
   "source": [
    "new_model = tf.keras.models.load_model('model.h5')"
   ]
  },
  {
   "cell_type": "code",
   "execution_count": 80,
   "metadata": {},
   "outputs": [],
   "source": [
    "predictions = new_model.predict([x_test])"
   ]
  },
  {
   "cell_type": "code",
   "execution_count": 81,
   "metadata": {},
   "outputs": [
    {
     "name": "stdout",
     "output_type": "stream",
     "text": [
      "[[1.3371786e-10 1.3388457e-09 3.7075745e-07 ... 1.8630124e-17\n",
      "  6.0563762e-17 2.8107878e-17]\n",
      " [1.2261947e-11 2.1328832e-04 9.9976438e-01 ... 7.1876014e-19\n",
      "  2.8855378e-17 5.2986785e-17]\n",
      " [4.4562245e-07 9.9948597e-01 4.5597503e-06 ... 6.1456201e-11\n",
      "  3.0144040e-11 3.5967965e-11]\n",
      " ...\n",
      " [3.9720475e-12 1.2636488e-07 3.7650317e-11 ... 4.3121863e-15\n",
      "  9.6706963e-15 4.4076486e-15]\n",
      " [5.4535558e-08 8.3337763e-09 1.5091613e-08 ... 2.5782336e-13\n",
      "  6.8463692e-13 9.8100022e-13]\n",
      " [5.5579746e-10 3.2797793e-09 9.0555021e-09 ... 3.6426331e-17\n",
      "  5.6418662e-16 2.1101585e-16]]\n"
     ]
    }
   ],
   "source": [
    "print(predictions)"
   ]
  },
  {
   "cell_type": "code",
   "execution_count": 82,
   "metadata": {},
   "outputs": [
    {
     "name": "stdout",
     "output_type": "stream",
     "text": [
      "5\n"
     ]
    }
   ],
   "source": [
    "import numpy as np\n",
    "\n",
    "print(np.argmax(predictions[8]))"
   ]
  },
  {
   "cell_type": "code",
   "execution_count": 88,
   "metadata": {},
   "outputs": [],
   "source": [
    "import matplotlib.pyplot as plt\n"
   ]
  },
  {
   "cell_type": "code",
   "execution_count": 89,
   "metadata": {},
   "outputs": [],
   "source": [
    "scores = model.evaluate(x_test,y_test,verbose = 0)"
   ]
  },
  {
   "cell_type": "code",
   "execution_count": 92,
   "metadata": {},
   "outputs": [],
   "source": [
    "from keras.models import load_model\n",
    "model = load_model('Downloads//model.h5')"
   ]
  },
  {
   "cell_type": "code",
   "execution_count": 48,
   "metadata": {},
   "outputs": [],
   "source": [
    "import os\n",
    "import sys\n",
    "import PIL \n",
    "import cv2\n",
    "import glob\n",
    "from tkinter import *\n",
    "from tkinter.ttk import *\n",
    "from PIL import Image,ImageDraw,ImageGrab\n"
   ]
  },
  {
   "cell_type": "code",
   "execution_count": 49,
   "metadata": {},
   "outputs": [],
   "source": [
    "root = Tk()\n",
    "root.resizable(0,0)\n",
    "root.title('HANDWRITTEN DIGIT RECOGNITION GUI APP')\n",
    "\n",
    "lastx,lasty = None,None\n",
    "image_number = 0\n",
    "\n",
    "def clear_widget():\n",
    "    global cv\n",
    "  #to clear canvas\n",
    "    cv.delete(\"all\")\n",
    "\n",
    "def activate_event(event):\n",
    "    global lastx,lasty\n",
    "    cv.bind('<B1-Motion',draw_lines)\n",
    "    lastx,lasty = event.x,event.y\n",
    "\n",
    "def draw_lines(event):\n",
    "    global lastx,lasty\n",
    "    x,y = event.x,event.y\n",
    "    cv.create_line((lastx, lasty,x,y),width = 8,fill = 'black',capstyle = ROUND, smooth = TRUE,splinesteps=12)\n",
    "    lastx,lasty = x,y\n",
    "    \n",
    "cv = Canvas(root, width = 640, height = 480 ,bg = 'white')\n",
    "cv.grid(row = 0,column = 0,pady = 2,sticky=W,columnspan = 2)\n",
    "\n",
    "#Tkinter provides a powerful mechanism to let you deal with event yourself\n",
    "cv.bind('<Button-1>',activate_event)\n",
    "\n",
    "#Add buttons and labels\n",
    "btn_save = Button(text = 'Recognize Digit',command = Recognize_Digit)\n",
    "btn_save.grid(row=2,column=0,pady=1,padx=1)\n",
    "button_clear = Button(text='clear widget',command = clear_widget)\n",
    "button_clear.grid(row=2,column=1,pady=1,padx=1)\n",
    "\n",
    "def Recognize_Digit():\n",
    "    global image_number\n",
    "    predictions = []\n",
    "    percentage = []\n",
    "  # image_no = 0\n",
    "    filename = f'image_{image_number}.png'\n",
    "    widget = cv\n",
    "\n",
    "  #get the widget co-ordinates\n",
    "    x = root.winfo_rootx()+widget.winfo_x()\n",
    "    y = root.winfo_rooty()+widget.winfo_y()\n",
    "    x1 = x+widget.winfo_width()\n",
    "    y1= y+widget.winfo_height()\n",
    "  #grab the image,crop it accordingly to my requirement and saved it in png format\n",
    "    ImageGrab.grab().crop((x,y,x1,y1)).save(filename)\n",
    "    \n",
    "image = cv2.imread(filename,cv2.IMREAD_COLOR)\n",
    "gray = cv2.cvtColor(image,cv2.COLOR_BGR2GRAY)\n",
    "ret,th = cv2.threshold(gray,0,255,cv2.THRESH_BINARY_INV+CV2.THRESH_OTSU)\n",
    "contours = cv2.findContours(th,cv2.RETR_EXTERNAL,cv2.CHAIN_APPROX_SIMPLE)[0] \n",
    "\n",
    "for cnt in contours:\n",
    "  x,y,w,h = cv2.boundingRect(cnt)\n",
    "  cv2.rectangle(image,(x,y),(x+w,y+h),(255,0,0),1)\n",
    "  top = int(0.05*th.shape[0])\n",
    "  bottom = top\n",
    "  left = int(0.05*th.shape[1])\n",
    "  right = left\n",
    "  th_up = cv2.copyMakeBorder(th,top,bottom,left,right,cv2.BORDER_REPLICATE)\n",
    "  roi = th[y-top:y+h+bottom,x-left:x+w+right]\n",
    "  image = cv2.resize(roi,(28,28),interpolation = cv2.INTER_AREA)\n",
    "  img = img.reshape(1,28,28,1)\n",
    "  img = img/255.0\n",
    "  pred = model.predict([img])[0]\n",
    "  final_pred = np.argmax(pred)\n",
    "  data = str(final_pre)+''+str(int(max(pred)*100))+'%'\n",
    "  font = cv2.FONT_HERSHEY_SIMPLEX\n",
    "  fontscale = 0.5\n",
    "  color = (255,0,0)\n",
    "  thickness =1\n",
    "  cv2.putText(image,data,(x,y-5),font,fontScale,color,thickness)\n",
    "\n",
    "#showing predicted result on new window\n",
    "cv2.imshow('image',image)\n",
    "cv2.waitKey(0)  \n",
    "root.mainloop()"
   ]
  },
  {
   "cell_type": "code",
   "execution_count": 50,
   "metadata": {},
   "outputs": [],
   "source": []
  },
  {
   "cell_type": "code",
   "execution_count": 121,
   "metadata": {},
   "outputs": [],
   "source": []
  },
  {
   "cell_type": "markdown",
   "metadata": {},
   "source": [
    "       \n"
   ]
  },
  {
   "cell_type": "code",
   "execution_count": null,
   "metadata": {},
   "outputs": [],
   "source": [
    "\n",
    "    "
   ]
  },
  {
   "cell_type": "code",
   "execution_count": null,
   "metadata": {},
   "outputs": [],
   "source": [
    "\n",
    "    "
   ]
  },
  {
   "cell_type": "code",
   "execution_count": null,
   "metadata": {},
   "outputs": [],
   "source": []
  },
  {
   "cell_type": "code",
   "execution_count": null,
   "metadata": {},
   "outputs": [],
   "source": [
    "   \n"
   ]
  },
  {
   "cell_type": "code",
   "execution_count": null,
   "metadata": {},
   "outputs": [],
   "source": [
    "               \n"
   ]
  },
  {
   "cell_type": "code",
   "execution_count": null,
   "metadata": {},
   "outputs": [],
   "source": []
  },
  {
   "cell_type": "code",
   "execution_count": null,
   "metadata": {},
   "outputs": [],
   "source": []
  },
  {
   "cell_type": "code",
   "execution_count": null,
   "metadata": {},
   "outputs": [],
   "source": []
  },
  {
   "cell_type": "code",
   "execution_count": null,
   "metadata": {},
   "outputs": [],
   "source": []
  },
  {
   "cell_type": "code",
   "execution_count": null,
   "metadata": {},
   "outputs": [],
   "source": []
  }
 ],
 "metadata": {
  "kernelspec": {
   "display_name": "Python 3",
   "language": "python",
   "name": "python3"
  }
 },
 "nbformat": 4,
 "nbformat_minor": 4
}
