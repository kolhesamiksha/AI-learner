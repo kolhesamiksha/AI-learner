{
  "nbformat": 4,
  "nbformat_minor": 0,
  "metadata": {
    "colab": {
      "name": "Image classifier.ipynb",
      "provenance": [],
      "collapsed_sections": [],
      "authorship_tag": "ABX9TyOR0+PA1pmuS8BKKjLjfbdZ",
      "include_colab_link": true
    },
    "kernelspec": {
      "display_name": "Python 3",
      "name": "python3"
    },
    "accelerator": "GPU"
  },
  "cells": [
    {
      "cell_type": "markdown",
      "metadata": {
        "id": "view-in-github",
        "colab_type": "text"
      },
      "source": [
        "<a href=\"https://colab.research.google.com/github/kolhesamiksha/AI-learner/blob/main/Image_classifier.ipynb\" target=\"_parent\"><img src=\"https://colab.research.google.com/assets/colab-badge.svg\" alt=\"Open In Colab\"/></a>"
      ]
    },
    {
      "cell_type": "code",
      "metadata": {
        "colab": {
          "base_uri": "https://localhost:8080/"
        },
        "id": "0uLMAPUBdLNX",
        "outputId": "38ffb685-95b7-47ba-92f4-ded1c595b2f6"
      },
      "source": [
        "!pip install bing-image-downloader"
      ],
      "execution_count": null,
      "outputs": [
        {
          "output_type": "stream",
          "text": [
            "Collecting bing-image-downloader\n",
            "  Downloading https://files.pythonhosted.org/packages/0d/bf/537a61030b84ae4cd5022d5c7b014fd9bc3ce7c02358919153a6658a61d3/bing_image_downloader-1.0.4-py3-none-any.whl\n",
            "Installing collected packages: bing-image-downloader\n",
            "Successfully installed bing-image-downloader-1.0.4\n"
          ],
          "name": "stdout"
        }
      ]
    },
    {
      "cell_type": "code",
      "metadata": {
        "id": "7SOUxIKFTszV"
      },
      "source": [
        "!mkdir images"
      ],
      "execution_count": null,
      "outputs": []
    },
    {
      "cell_type": "code",
      "metadata": {
        "id": "Rah79tusTxjt"
      },
      "source": [
        "from bing_image_downloader import downloader"
      ],
      "execution_count": null,
      "outputs": []
    },
    {
      "cell_type": "code",
      "metadata": {
        "colab": {
          "base_uri": "https://localhost:8080/"
        },
        "id": "6_46CBr4T5gi",
        "outputId": "958e1e3d-2a81-4759-d701-764a977bfff9"
      },
      "source": [
        "downloader.download(\"pulsar stars\",limit = 50,output_dir= 'images',adult_filter_off = True)"
      ],
      "execution_count": null,
      "outputs": [
        {
          "output_type": "stream",
          "text": [
            "\n",
            "\n",
            "[!!]Indexing page: 1\n",
            "\n",
            "[%] Indexed 13 Images on Page 1.\n",
            "\n",
            "===============================================\n",
            "\n",
            "[%] Downloading Image #1 from http://www.nasa.gov/sites/default/files/thumbnails/image/14-270.jpg\n",
            "[%] File Downloaded !\n",
            "\n",
            "[%] Downloading Image #2 from http://www.mpifr-bonn.mpg.de/717005/Pulsars.jpg\n",
            "[%] File Downloaded !\n",
            "\n",
            "[%] Downloading Image #3 from https://upload.wikimedia.org/wikipedia/commons/thumb/a/a6/PIA18848-PSRB1509-58-ChandraXRay-WiseIR-20141023.jpg/1200px-PIA18848-PSRB1509-58-ChandraXRay-WiseIR-20141023.jpg\n",
            "[%] File Downloaded !\n",
            "\n",
            "[%] Downloading Image #4 from https://3c1703fe8d.site.internapcdn.net/newman/gfx/news/2017/reachingforn.jpg\n",
            "[%] File Downloaded !\n",
            "\n",
            "[%] Downloading Image #5 from https://i.ytimg.com/vi/IgihQG8t0kI/maxresdefault.jpg\n",
            "[%] File Downloaded !\n",
            "\n",
            "[%] Downloading Image #6 from https://blogs.scientificamerican.com/blogs/assets/sa-visual/Image/star_death.jpg\n",
            "[%] File Downloaded !\n",
            "\n",
            "[%] Downloading Image #7 from http://cdn.spacetelescope.org/archives/images/screen/opo1843b.jpg\n",
            "[%] File Downloaded !\n",
            "\n",
            "[%] Downloading Image #8 from http://s1.ibtimes.com/sites/www.ibtimes.com/files/2017/01/19/pulsar.jpg\n",
            "[%] File Downloaded !\n",
            "\n",
            "[%] Downloading Image #9 from https://cdn.shopify.com/s/files/1/0350/8253/products/Pulsar-Ash-Catcher-14mm-M_media-1_41724ade-3718-45a0-a316-794060452464_large.jpg?v=1584802921\n",
            "[%] File Downloaded !\n",
            "\n",
            "[%] Downloading Image #10 from http://chandra.harvard.edu/photo/2017/geminga/geminga_lg.jpg\n",
            "[%] File Downloaded !\n",
            "\n",
            "[%] Downloading Image #11 from https://www.spacetelescope.org/static/archives/fitsimages/screen/barnabas_rumpf_1.jpg\n",
            "[%] File Downloaded !\n",
            "\n",
            "[%] Downloading Image #12 from http://s1.cdn.autoevolution.com/images/news/gallery/2020-nissan-juke-might-not-have-diesel-engines_1.jpg\n",
            "[%] File Downloaded !\n",
            "\n",
            "[%] Downloading Image #13 from https://scitechdaily.com/images/Chandra-Crab-Nebula-Image.jpg\n",
            "[%] File Downloaded !\n",
            "\n",
            "\n",
            "\n",
            "[!!]Indexing page: 2\n",
            "\n",
            "[%] Indexed 14 Images on Page 2.\n",
            "\n",
            "===============================================\n",
            "\n",
            "[%] Downloading Image #14 from https://upload.wikimedia.org/wikipedia/commons/thumb/a/a6/PIA18848-PSRB1509-58-ChandraXRay-WiseIR-20141023.jpg/1200px-PIA18848-PSRB1509-58-ChandraXRay-WiseIR-20141023.jpg\n",
            "[%] File Downloaded !\n",
            "\n",
            "[%] Downloading Image #15 from http://www.science20.com/files/images/pulsar_j1906.jpg\n",
            "[%] File Downloaded !\n",
            "\n",
            "[%] Downloading Image #16 from https://i.ytimg.com/vi/_DZjVq4aRBQ/maxresdefault.jpg\n",
            "[%] File Downloaded !\n",
            "\n",
            "[%] Downloading Image #17 from https://akm-img-a-in.tosshub.com/indiatoday/images/story/201903/ctb1opticalrosenpulsar20032019.jpeg?PYye4f9PmUsv9Slu7RrZiSrwGtb37gzZ\n",
            "[%] File Downloaded !\n",
            "\n",
            "[%] Downloading Image #18 from https://3c1703fe8d.site.internapcdn.net/newman/gfx/news/hires/2014/smallestspee.jpg\n",
            "[%] File Downloaded !\n",
            "\n",
            "[%] Downloading Image #19 from https://thumbs.dreamstime.com/b/crab-nebula-constellation-taurus-supernova-core-pulsar-neutron-star-elements-image-furnished-nasa-retouched-96784071.jpg\n",
            "[%] File Downloaded !\n",
            "\n",
            "[%] Downloading Image #20 from https://www.crystalinks.com/stars_white_dwarf.jpg\n",
            "[%] File Downloaded !\n",
            "\n",
            "[%] Downloading Image #21 from http://cdn.spacetelescope.org/archives/images/screen/opo0316c.jpg\n",
            "[%] File Downloaded !\n",
            "\n",
            "[%] Downloading Image #22 from http://www.bigbangcentral.com/images/large_stars_die.jpg\n",
            "[%] File Downloaded !\n",
            "\n",
            "[%] Downloading Image #23 from http://www.extremetech.com/wp-content/uploads/2014/06/White-Dwarf.jpg\n",
            "[%] File Downloaded !\n",
            "\n",
            "[%] Downloading Image #24 from https://68.media.tumblr.com/37fca6792310b915fa27730053d2aa07/tumblr_nqkkuvyaS91ut8ouvo1_500.gif\n",
            "[%] File Downloaded !\n",
            "\n",
            "[%] Downloading Image #25 from https://www.bing.com/th/id/OGC.00d77796fbde0addf0bbc0bb5231cfcb?pid=1.7&amp;rurl=https%3a%2f%2f68.media.tumblr.com%2f37fca6792310b915fa27730053d2aa07%2ftumblr_nqkkuvyaS91ut8ouvo1_500.gif&amp;ehk=NlAXJvdB8tQj7E7b98yyCDTyOBweHugDY%2bPo0ejiZzA%3d\n",
            "[!] Issue getting: https://www.bing.com/th/id/OGC.00d77796fbde0addf0bbc0bb5231cfcb?pid=1.7&amp;rurl=https%3a%2f%2f68.media.tumblr.com%2f37fca6792310b915fa27730053d2aa07%2ftumblr_nqkkuvyaS91ut8ouvo1_500.gif&amp;ehk=NlAXJvdB8tQj7E7b98yyCDTyOBweHugDY%2bPo0ejiZzA%3d\n",
            "[!] Error:: HTTP Error 404: Not Found\n",
            "[%] Downloading Image #25 from https://cdn.spacetelescope.org/archives/images/screen/opo0319g.jpg\n",
            "[%] File Downloaded !\n",
            "\n",
            "[%] Downloading Image #26 from http://1024x.net/wallpapers/10t/Most_Beautiful_Galaxy.jpg\n",
            "[%] File Downloaded !\n",
            "\n",
            "\n",
            "\n",
            "[!!]Indexing page: 3\n",
            "\n",
            "[%] Indexed 13 Images on Page 3.\n",
            "\n",
            "===============================================\n",
            "\n",
            "[%] Downloading Image #27 from http://thescienceexplorer.com/sites/thescienceexplorer.com/files/blog/14773475650_cb8fc5879d_h.jpg\n",
            "[%] File Downloaded !\n",
            "\n",
            "[%] Downloading Image #28 from https://www.theweek.in/content/dam/week/news/sci-tech/2018/february/pulsar-or-neutron-star-in-the-nebula-3D-illustration-shut.jpg\n",
            "[%] File Downloaded !\n",
            "\n",
            "[%] Downloading Image #29 from https://cronodon.com/sitebuilder/images/Pulsar2.jpg\n",
            "[%] File Downloaded !\n",
            "\n",
            "[%] Downloading Image #30 from https://www.jpl.nasa.gov/spaceimages/images/mediumsize/PIA08040_ip.jpg\n",
            "[%] File Downloaded !\n",
            "\n",
            "[%] Downloading Image #31 from https://i.ytimg.com/vi/ueT4W9LpVrE/maxresdefault.jpg\n",
            "[%] File Downloaded !\n",
            "\n",
            "[%] Downloading Image #32 from https://wrapandride.com/wp-content/uploads/2018/06/NS-Alpinestars-orange.jpg\n",
            "[!] Issue getting: https://wrapandride.com/wp-content/uploads/2018/06/NS-Alpinestars-orange.jpg\n",
            "[!] Error:: <urlopen error [Errno -3] Temporary failure in name resolution>\n",
            "[%] Downloading Image #32 from https://i.ytimg.com/vi/v55lzMMJTJQ/maxresdefault.jpg\n",
            "[%] File Downloaded !\n",
            "\n",
            "[%] Downloading Image #33 from https://i.ytimg.com/vi/jvOX5R3M5bo/maxresdefault.jpg\n",
            "[%] File Downloaded !\n",
            "\n",
            "[%] Downloading Image #34 from https://cdn.wallpapersafari.com/72/90/HYnUWG.jpg\n",
            "[%] File Downloaded !\n",
            "\n",
            "[%] Downloading Image #35 from http://d.ibtimes.co.uk/en/full/1413437/blackhole-pulsar.jpg\n",
            "[%] File Downloaded !\n",
            "\n",
            "[%] Downloading Image #36 from https://68.media.tumblr.com/fe01862e232ab0357bbc1da8b636e446/tumblr_inline_otrd3iVhxU1tzhl5u_500.gif\n",
            "[%] File Downloaded !\n",
            "\n",
            "[%] Downloading Image #37 from https://www.bing.com/th/id/OGC.0bf7d4d3c103f8b99720fac419fa9ad6?pid=1.7&amp;rurl=https%3a%2f%2f68.media.tumblr.com%2ffe01862e232ab0357bbc1da8b636e446%2ftumblr_inline_otrd3iVhxU1tzhl5u_500.gif&amp;ehk=V%2bZbAiSZ1s2pa%2fGP8qC2fD4rz%2fBfs13Y%2f7BWqigFpYQ%3d\n",
            "[!] Issue getting: https://www.bing.com/th/id/OGC.0bf7d4d3c103f8b99720fac419fa9ad6?pid=1.7&amp;rurl=https%3a%2f%2f68.media.tumblr.com%2ffe01862e232ab0357bbc1da8b636e446%2ftumblr_inline_otrd3iVhxU1tzhl5u_500.gif&amp;ehk=V%2bZbAiSZ1s2pa%2fGP8qC2fD4rz%2fBfs13Y%2f7BWqigFpYQ%3d\n",
            "[!] Error:: HTTP Error 404: Not Found\n",
            "[%] Downloading Image #37 from https://assets.wired.com/photos/w_1200/wp-content/uploads/2014/12/ColdRemnant_nrao.jpg\n",
            "[%] File Downloaded !\n",
            "\n",
            "\n",
            "\n",
            "[!!]Indexing page: 4\n",
            "\n",
            "[%] Indexed 12 Images on Page 4.\n",
            "\n",
            "===============================================\n",
            "\n",
            "[%] Downloading Image #38 from https://www.theweek.in/content/dam/week/news/sci-tech/2018/february/pulsar-or-neutron-star-in-the-nebula-3D-illustration-shut.jpg\n",
            "[%] File Downloaded !\n",
            "\n",
            "[%] Downloading Image #39 from https://cronodon.com/sitebuilder/images/Pulsar2.jpg\n",
            "[!] Issue getting: https://cronodon.com/sitebuilder/images/Pulsar2.jpg\n",
            "[!] Error:: hostname 'cronodon.com' doesn't match either of '*.secure.hostingprod.com', 'secure.hostingprod.com'\n",
            "[%] Downloading Image #39 from https://www.jpl.nasa.gov/spaceimages/images/mediumsize/PIA08040_ip.jpg\n",
            "[%] File Downloaded !\n",
            "\n",
            "[%] Downloading Image #40 from https://i.ytimg.com/vi/ueT4W9LpVrE/maxresdefault.jpg\n",
            "[%] File Downloaded !\n",
            "\n",
            "[%] Downloading Image #41 from https://wrapandride.com/wp-content/uploads/2018/06/NS-Alpinestars-orange.jpg\n",
            "[!] Issue getting: https://wrapandride.com/wp-content/uploads/2018/06/NS-Alpinestars-orange.jpg\n",
            "[!] Error:: <urlopen error [Errno -3] Temporary failure in name resolution>\n",
            "[%] Downloading Image #41 from https://i.ytimg.com/vi/v55lzMMJTJQ/maxresdefault.jpg\n",
            "[%] File Downloaded !\n",
            "\n",
            "[%] Downloading Image #42 from https://i.ytimg.com/vi/jvOX5R3M5bo/maxresdefault.jpg\n",
            "[%] File Downloaded !\n",
            "\n",
            "[%] Downloading Image #43 from https://cdn.wallpapersafari.com/72/90/HYnUWG.jpg\n",
            "[%] File Downloaded !\n",
            "\n",
            "[%] Downloading Image #44 from http://d.ibtimes.co.uk/en/full/1413437/blackhole-pulsar.jpg\n",
            "[%] File Downloaded !\n",
            "\n",
            "[%] Downloading Image #45 from https://68.media.tumblr.com/fe01862e232ab0357bbc1da8b636e446/tumblr_inline_otrd3iVhxU1tzhl5u_500.gif\n",
            "[%] File Downloaded !\n",
            "\n",
            "[%] Downloading Image #46 from https://www.bing.com/th/id/OGC.0bf7d4d3c103f8b99720fac419fa9ad6?pid=1.7&amp;rurl=https%3a%2f%2f68.media.tumblr.com%2ffe01862e232ab0357bbc1da8b636e446%2ftumblr_inline_otrd3iVhxU1tzhl5u_500.gif&amp;ehk=V%2bZbAiSZ1s2pa%2fGP8qC2fD4rz%2fBfs13Y%2f7BWqigFpYQ%3d\n",
            "[!] Issue getting: https://www.bing.com/th/id/OGC.0bf7d4d3c103f8b99720fac419fa9ad6?pid=1.7&amp;rurl=https%3a%2f%2f68.media.tumblr.com%2ffe01862e232ab0357bbc1da8b636e446%2ftumblr_inline_otrd3iVhxU1tzhl5u_500.gif&amp;ehk=V%2bZbAiSZ1s2pa%2fGP8qC2fD4rz%2fBfs13Y%2f7BWqigFpYQ%3d\n",
            "[!] Error:: HTTP Error 404: Not Found\n",
            "[%] Downloading Image #46 from https://assets.wired.com/photos/w_1200/wp-content/uploads/2014/12/ColdRemnant_nrao.jpg\n",
            "[%] File Downloaded !\n",
            "\n",
            "\n",
            "\n",
            "[!!]Indexing page: 5\n",
            "\n",
            "[%] Indexed 10 Images on Page 5.\n",
            "\n",
            "===============================================\n",
            "\n",
            "[%] Downloading Image #47 from https://3c1703fe8d.site.internapcdn.net/newman/gfx/news/2017/reachingforn.jpg\n",
            "[%] File Downloaded !\n",
            "\n",
            "[%] Downloading Image #48 from http://chandra.harvard.edu/photo/1999/0052/0052_xray_bw.jpg\n",
            "[%] File Downloaded !\n",
            "\n",
            "[%] Downloading Image #49 from https://blogs.scientificamerican.com/blogs/assets/sa-visual/Image/star_death.jpg\n",
            "[%] File Downloaded !\n",
            "\n",
            "[%] Downloading Image #50 from http://cdn.spacetelescope.org/archives/images/screen/opo1843b.jpg\n",
            "[%] File Downloaded !\n",
            "\n",
            "\n",
            "\n",
            "[%] Done. Downloaded 50 images.\n",
            "\n",
            "===============================================\n",
            "\n"
          ],
          "name": "stdout"
        }
      ]
    },
    {
      "cell_type": "code",
      "metadata": {
        "colab": {
          "base_uri": "https://localhost:8080/"
        },
        "id": "69AbG9PGUDvi",
        "outputId": "1ae7f425-9d2f-44e8-ec27-1f85d7d9a24e"
      },
      "source": [
        "downloader.download(\"black holes\",limit = 50,output_dir= 'images',adult_filter_off = True)"
      ],
      "execution_count": null,
      "outputs": [
        {
          "output_type": "stream",
          "text": [
            "\n",
            "\n",
            "[!!]Indexing page: 1\n",
            "\n",
            "[%] Indexed 13 Images on Page 1.\n",
            "\n",
            "===============================================\n",
            "\n",
            "[%] Downloading Image #1 from https://www.hdwallpapers.in/download/space_black_hole-1280x800.jpg\n",
            "[%] File Downloaded !\n",
            "\n",
            "[%] Downloading Image #2 from http://cdn.spacetelescope.org/archives/images/screen/opo9516d.jpg\n",
            "[%] File Downloaded !\n",
            "\n",
            "[%] Downloading Image #3 from https://img.thrfun.com/img/019/278/boo_chowlab_mix_l1.jpg\n",
            "[%] File Downloaded !\n",
            "\n",
            "[%] Downloading Image #4 from http://www.1golf.eu/images/golfclubs/duke-university-golf-club_045182_full.jpg\n",
            "[%] File Downloaded !\n",
            "\n",
            "[%] Downloading Image #5 from https://www.1golf.eu/images/golfclubs/black-lake-golf-club_045493_full.jpg\n",
            "[%] File Downloaded !\n",
            "\n",
            "[%] Downloading Image #6 from https://www.spacetelescope.org/static/archives/fitsimages/screen/mike_herbaut_28.jpg\n",
            "[%] File Downloaded !\n",
            "\n",
            "[%] Downloading Image #7 from https://scene360.com/wp-content/uploads/2015/11/colin-christian-071.jpg\n",
            "[%] File Downloaded !\n",
            "\n",
            "[%] Downloading Image #8 from http://cdn.spacetelescope.org/archives/images/screen/heic0701b.jpg\n",
            "[%] File Downloaded !\n",
            "\n",
            "[%] Downloading Image #9 from http://upload.wikimedia.org/wikipedia/commons/thumb/f/f5/Dachshund_oliver_461x652.jpg/220px-Dachshund_oliver_461x652.jpg\n",
            "[%] File Downloaded !\n",
            "\n",
            "[%] Downloading Image #10 from https://2.bp.blogspot.com/-HKcSwFyKrBw/UrVl8z4SBvI/AAAAAAAADzI/r-mNZbnS1Y8/s1600/52.jpg\n",
            "[%] File Downloaded !\n",
            "\n",
            "[%] Downloading Image #11 from http://cdn.spacetelescope.org/archives/images/screen/opo0533c.jpg\n",
            "[%] File Downloaded !\n",
            "\n",
            "[%] Downloading Image #12 from https://www.sciencephoto.com/image/250402/530wm\n",
            "[%] File Downloaded !\n",
            "\n",
            "[%] Downloading Image #13 from https://cdn.displays2go.com/images/zoom/opd1sm.rw_zoom.jpg\n",
            "[%] File Downloaded !\n",
            "\n",
            "\n",
            "\n",
            "[!!]Indexing page: 2\n",
            "\n",
            "[%] Indexed 13 Images on Page 2.\n",
            "\n",
            "===============================================\n",
            "\n",
            "[%] Downloading Image #14 from https://www.hdwallpapers.in/download/space_black_hole-1280x800.jpg\n",
            "[%] File Downloaded !\n",
            "\n",
            "[%] Downloading Image #15 from http://cdn.spacetelescope.org/archives/images/screen/opo9516d.jpg\n",
            "[%] File Downloaded !\n",
            "\n",
            "[%] Downloading Image #16 from https://img.thrfun.com/img/019/278/boo_chowlab_mix_l1.jpg\n",
            "[%] File Downloaded !\n",
            "\n",
            "[%] Downloading Image #17 from http://www.1golf.eu/images/golfclubs/duke-university-golf-club_045182_full.jpg\n",
            "[%] File Downloaded !\n",
            "\n",
            "[%] Downloading Image #18 from https://www.1golf.eu/images/golfclubs/black-lake-golf-club_045493_full.jpg\n",
            "[%] File Downloaded !\n",
            "\n",
            "[%] Downloading Image #19 from https://www.spacetelescope.org/static/archives/fitsimages/screen/mike_herbaut_28.jpg\n",
            "[%] File Downloaded !\n",
            "\n",
            "[%] Downloading Image #20 from https://scene360.com/wp-content/uploads/2015/11/colin-christian-071.jpg\n",
            "[%] File Downloaded !\n",
            "\n",
            "[%] Downloading Image #21 from http://cdn.spacetelescope.org/archives/images/screen/heic0701b.jpg\n",
            "[%] File Downloaded !\n",
            "\n",
            "[%] Downloading Image #22 from http://upload.wikimedia.org/wikipedia/commons/thumb/f/f5/Dachshund_oliver_461x652.jpg/220px-Dachshund_oliver_461x652.jpg\n",
            "[%] File Downloaded !\n",
            "\n",
            "[%] Downloading Image #23 from https://2.bp.blogspot.com/-HKcSwFyKrBw/UrVl8z4SBvI/AAAAAAAADzI/r-mNZbnS1Y8/s1600/52.jpg\n",
            "[%] File Downloaded !\n",
            "\n",
            "[%] Downloading Image #24 from http://cdn.spacetelescope.org/archives/images/screen/opo0533c.jpg\n",
            "[%] File Downloaded !\n",
            "\n",
            "[%] Downloading Image #25 from https://www.sciencephoto.com/image/250402/530wm\n",
            "[%] File Downloaded !\n",
            "\n",
            "[%] Downloading Image #26 from https://cdn.displays2go.com/images/zoom/opd1sm.rw_zoom.jpg\n",
            "[%] File Downloaded !\n",
            "\n",
            "\n",
            "\n",
            "[!!]Indexing page: 3\n",
            "\n",
            "[%] Indexed 12 Images on Page 3.\n",
            "\n",
            "===============================================\n",
            "\n",
            "[%] Downloading Image #27 from https://www.1golf.eu/images/golfclubs/black-lake-golf-club_045493_full.jpg\n",
            "[%] File Downloaded !\n",
            "\n",
            "[%] Downloading Image #28 from http://upload.wikimedia.org/wikipedia/commons/thumb/f/f5/Dachshund_oliver_461x652.jpg/220px-Dachshund_oliver_461x652.jpg\n",
            "[%] File Downloaded !\n",
            "\n",
            "[%] Downloading Image #29 from http://cdn.spacetelescope.org/archives/images/screen/heic0701b.jpg\n",
            "[%] File Downloaded !\n",
            "\n",
            "[%] Downloading Image #30 from https://www.spacetelescope.org/static/archives/fitsimages/screen/mike_herbaut_28.jpg\n",
            "[%] File Downloaded !\n",
            "\n",
            "[%] Downloading Image #31 from https://scene360.com/wp-content/uploads/2015/11/colin-christian-071.jpg\n",
            "[%] File Downloaded !\n",
            "\n",
            "[%] Downloading Image #32 from https://2.bp.blogspot.com/-HKcSwFyKrBw/UrVl8z4SBvI/AAAAAAAADzI/r-mNZbnS1Y8/s1600/52.jpg\n",
            "[%] File Downloaded !\n",
            "\n",
            "[%] Downloading Image #33 from https://img.thrfun.com/img/019/278/boo_chowlab_mix_l1.jpg\n",
            "[%] File Downloaded !\n",
            "\n",
            "[%] Downloading Image #34 from https://www.sciencephoto.com/image/250402/530wm\n",
            "[%] File Downloaded !\n",
            "\n",
            "[%] Downloading Image #35 from http://cdn.spacetelescope.org/archives/images/screen/opo0533c.jpg\n",
            "[%] File Downloaded !\n",
            "\n",
            "[%] Downloading Image #36 from http://cdn.spacetelescope.org/archives/images/screen/opo9516d.jpg\n",
            "[%] File Downloaded !\n",
            "\n",
            "[%] Downloading Image #37 from https://cdn.displays2go.com/images/zoom/opd1sm.rw_zoom.jpg\n",
            "[%] File Downloaded !\n",
            "\n",
            "[%] Downloading Image #38 from http://www.1golf.eu/images/golfclubs/duke-university-golf-club_045182_full.jpg\n",
            "[%] File Downloaded !\n",
            "\n",
            "\n",
            "\n",
            "[!!]Indexing page: 4\n",
            "\n",
            "[%] Indexed 11 Images on Page 4.\n",
            "\n",
            "===============================================\n",
            "\n",
            "[%] Downloading Image #39 from http://cdn.spacetelescope.org/archives/images/screen/heic0701b.jpg\n",
            "[%] File Downloaded !\n",
            "\n",
            "[%] Downloading Image #40 from https://cdn.displays2go.com/images/zoom/opd1sm.rw_zoom.jpg\n",
            "[%] File Downloaded !\n",
            "\n",
            "[%] Downloading Image #41 from http://upload.wikimedia.org/wikipedia/commons/thumb/f/f5/Dachshund_oliver_461x652.jpg/220px-Dachshund_oliver_461x652.jpg\n",
            "[%] File Downloaded !\n",
            "\n",
            "[%] Downloading Image #42 from https://2.bp.blogspot.com/-HKcSwFyKrBw/UrVl8z4SBvI/AAAAAAAADzI/r-mNZbnS1Y8/s1600/52.jpg\n",
            "[%] File Downloaded !\n",
            "\n",
            "[%] Downloading Image #43 from https://scene360.com/wp-content/uploads/2015/11/colin-christian-071.jpg\n",
            "[%] File Downloaded !\n",
            "\n",
            "[%] Downloading Image #44 from https://www.sciencephoto.com/image/250402/530wm\n",
            "[%] File Downloaded !\n",
            "\n",
            "[%] Downloading Image #45 from http://cdn.spacetelescope.org/archives/images/screen/opo9516d.jpg\n",
            "[%] File Downloaded !\n",
            "\n",
            "[%] Downloading Image #46 from http://cdn.spacetelescope.org/archives/images/screen/opo0533c.jpg\n",
            "[%] File Downloaded !\n",
            "\n",
            "[%] Downloading Image #47 from http://www.1golf.eu/images/golfclubs/duke-university-golf-club_045182_full.jpg\n",
            "[%] File Downloaded !\n",
            "\n",
            "[%] Downloading Image #48 from https://www.spacetelescope.org/static/archives/fitsimages/screen/mike_herbaut_28.jpg\n",
            "[%] File Downloaded !\n",
            "\n",
            "[%] Downloading Image #49 from https://img.thrfun.com/img/019/278/boo_chowlab_mix_l1.jpg\n",
            "[%] File Downloaded !\n",
            "\n",
            "\n",
            "\n",
            "[!!]Indexing page: 5\n",
            "\n",
            "[%] Indexed 10 Images on Page 5.\n",
            "\n",
            "===============================================\n",
            "\n",
            "[%] Downloading Image #50 from https://2.bp.blogspot.com/-HKcSwFyKrBw/UrVl8z4SBvI/AAAAAAAADzI/r-mNZbnS1Y8/s1600/52.jpg\n",
            "[%] File Downloaded !\n",
            "\n",
            "\n",
            "\n",
            "[%] Done. Downloaded 50 images.\n",
            "\n",
            "===============================================\n",
            "\n"
          ],
          "name": "stdout"
        }
      ]
    },
    {
      "cell_type": "code",
      "metadata": {
        "id": "7Y_sVpw8TeWY"
      },
      "source": [
        ""
      ],
      "execution_count": null,
      "outputs": []
    },
    {
      "cell_type": "code",
      "metadata": {
        "id": "0JYfz2lSVEyU"
      },
      "source": [
        ""
      ],
      "execution_count": null,
      "outputs": []
    },
    {
      "cell_type": "code",
      "metadata": {
        "id": "ydTOA4AfUOnY"
      },
      "source": [
        "import os\n",
        "import cv2\n",
        "import matplotlib.pyplot as plt\n",
        "import numpy as np\n",
        "from skimage.io import imread\n",
        "from skimage.transform import resize"
      ],
      "execution_count": null,
      "outputs": []
    },
    {
      "cell_type": "code",
      "metadata": {
        "colab": {
          "base_uri": "https://localhost:8080/",
          "height": 1000
        },
        "id": "8UW1LIj9UbsI",
        "outputId": "6396f90a-8014-431d-ca01-c2da1887d5a8"
      },
      "source": [
        "target = []\n",
        "images = []\n",
        "flat_data = []\n",
        "DATA = '/content/images'\n",
        "CATEGORIES = [\"pulsar stars\",\"black holes\"]\n",
        "for x in CATEGORIES:\n",
        "  class_num = CATEGORIES.index(x)\n",
        "  path = os.path.join(DATA,x)\n",
        "  for img in os.listdir(path):\n",
        "    img_array =imread(os.path.join(path,img))\n",
        "    print(plt.imshow(img_array))\n",
        "    img_resized =resize(img_array,(160,160,3))\n",
        "    flat_data.append(img_resized.flatten())\n",
        "    images.append(img_resized)\n",
        "    target.append(class_num)\n",
        "    \n",
        " \n",
        "flat_data = np.array(flat_data)\n",
        "images = np.array(images)\n",
        "target = np.array(target)"
      ],
      "execution_count": null,
      "outputs": [
        {
          "output_type": "stream",
          "text": [
            "AxesImage(54,36;334.8x217.44)\n",
            "AxesImage(54,36;334.8x217.44)\n",
            "AxesImage(54,36;334.8x217.44)\n",
            "AxesImage(54,36;334.8x217.44)\n",
            "AxesImage(54,36;334.8x217.44)\n",
            "AxesImage(54,36;334.8x217.44)\n",
            "AxesImage(54,36;334.8x217.44)\n",
            "AxesImage(54,36;334.8x217.44)\n",
            "AxesImage(54,36;334.8x217.44)\n",
            "AxesImage(54,36;334.8x217.44)\n",
            "AxesImage(54,36;334.8x217.44)\n",
            "AxesImage(54,36;334.8x217.44)\n",
            "AxesImage(54,36;334.8x217.44)\n",
            "AxesImage(54,36;334.8x217.44)\n",
            "AxesImage(54,36;334.8x217.44)\n",
            "AxesImage(54,36;334.8x217.44)\n",
            "AxesImage(54,36;334.8x217.44)\n",
            "AxesImage(54,36;334.8x217.44)\n",
            "AxesImage(54,36;334.8x217.44)\n",
            "AxesImage(54,36;334.8x217.44)\n",
            "AxesImage(54,36;334.8x217.44)\n",
            "AxesImage(54,36;334.8x217.44)\n",
            "AxesImage(54,36;334.8x217.44)\n",
            "AxesImage(54,36;334.8x217.44)\n",
            "AxesImage(54,36;334.8x217.44)\n",
            "AxesImage(54,36;334.8x217.44)\n",
            "AxesImage(54,36;334.8x217.44)\n",
            "AxesImage(54,36;334.8x217.44)\n",
            "AxesImage(54,36;334.8x217.44)\n",
            "AxesImage(54,36;334.8x217.44)\n",
            "AxesImage(54,36;334.8x217.44)\n",
            "AxesImage(54,36;334.8x217.44)\n",
            "AxesImage(54,36;334.8x217.44)\n",
            "AxesImage(54,36;334.8x217.44)\n",
            "AxesImage(54,36;334.8x217.44)\n",
            "AxesImage(54,36;334.8x217.44)\n",
            "AxesImage(54,36;334.8x217.44)\n",
            "AxesImage(54,36;334.8x217.44)\n",
            "AxesImage(54,36;334.8x217.44)\n",
            "AxesImage(54,36;334.8x217.44)\n",
            "AxesImage(54,36;334.8x217.44)\n",
            "AxesImage(54,36;334.8x217.44)\n",
            "AxesImage(54,36;334.8x217.44)\n",
            "AxesImage(54,36;334.8x217.44)\n",
            "AxesImage(54,36;334.8x217.44)\n",
            "AxesImage(54,36;334.8x217.44)\n",
            "AxesImage(54,36;334.8x217.44)\n",
            "AxesImage(54,36;334.8x217.44)\n",
            "AxesImage(54,36;334.8x217.44)\n",
            "AxesImage(54,36;334.8x217.44)\n",
            "AxesImage(54,36;334.8x217.44)\n",
            "AxesImage(54,36;334.8x217.44)\n",
            "AxesImage(54,36;334.8x217.44)\n",
            "AxesImage(54,36;334.8x217.44)\n",
            "AxesImage(54,36;334.8x217.44)\n",
            "AxesImage(54,36;334.8x217.44)\n",
            "AxesImage(54,36;334.8x217.44)\n",
            "AxesImage(54,36;334.8x217.44)\n",
            "AxesImage(54,36;334.8x217.44)\n",
            "AxesImage(54,36;334.8x217.44)\n",
            "AxesImage(54,36;334.8x217.44)\n",
            "AxesImage(54,36;334.8x217.44)\n",
            "AxesImage(54,36;334.8x217.44)\n",
            "AxesImage(54,36;334.8x217.44)\n",
            "AxesImage(54,36;334.8x217.44)\n",
            "AxesImage(54,36;334.8x217.44)\n",
            "AxesImage(54,36;334.8x217.44)\n",
            "AxesImage(54,36;334.8x217.44)\n",
            "AxesImage(54,36;334.8x217.44)\n",
            "AxesImage(54,36;334.8x217.44)\n",
            "AxesImage(54,36;334.8x217.44)\n",
            "AxesImage(54,36;334.8x217.44)\n",
            "AxesImage(54,36;334.8x217.44)\n",
            "AxesImage(54,36;334.8x217.44)\n",
            "AxesImage(54,36;334.8x217.44)\n",
            "AxesImage(54,36;334.8x217.44)\n",
            "AxesImage(54,36;334.8x217.44)\n",
            "AxesImage(54,36;334.8x217.44)\n",
            "AxesImage(54,36;334.8x217.44)\n",
            "AxesImage(54,36;334.8x217.44)\n",
            "AxesImage(54,36;334.8x217.44)\n",
            "AxesImage(54,36;334.8x217.44)\n",
            "AxesImage(54,36;334.8x217.44)\n",
            "AxesImage(54,36;334.8x217.44)\n",
            "AxesImage(54,36;334.8x217.44)\n",
            "AxesImage(54,36;334.8x217.44)\n",
            "AxesImage(54,36;334.8x217.44)\n",
            "AxesImage(54,36;334.8x217.44)\n",
            "AxesImage(54,36;334.8x217.44)\n",
            "AxesImage(54,36;334.8x217.44)\n",
            "AxesImage(54,36;334.8x217.44)\n",
            "AxesImage(54,36;334.8x217.44)\n",
            "AxesImage(54,36;334.8x217.44)\n",
            "AxesImage(54,36;334.8x217.44)\n",
            "AxesImage(54,36;334.8x217.44)\n",
            "AxesImage(54,36;334.8x217.44)\n",
            "AxesImage(54,36;334.8x217.44)\n",
            "AxesImage(54,36;334.8x217.44)\n",
            "AxesImage(54,36;334.8x217.44)\n",
            "AxesImage(54,36;334.8x217.44)\n"
          ],
          "name": "stdout"
        },
        {
          "output_type": "display_data",
          "data": {
            "image/png": "[encoded data removed]",
            "text/plain": [
              "<Figure size 432x288 with 1 Axes>"
            ]
          },
          "metadata": {
            "tags": [],
            "needs_background": "light"
          }
        }
      ]
    },
    {
      "cell_type": "code",
      "metadata": {
        "id": "GkBYaAx6UgUX"
      },
      "source": [
        "from sklearn.model_selection import train_test_split\n",
        "x_train,x_test,y_train,y_test = train_test_split(flat_data,target,test_size = 0.3,random_state = 100)"
      ],
      "execution_count": null,
      "outputs": []
    },
    {
      "cell_type": "code",
      "metadata": {
        "colab": {
          "base_uri": "https://localhost:8080/"
        },
        "id": "sMR7cgldWxvH",
        "outputId": "8370daca-911b-4032-b45a-e073ffb63639"
      },
      "source": [
        "!pip install globe"
      ],
      "execution_count": null,
      "outputs": [
        {
          "output_type": "stream",
          "text": [
            "Collecting globe\n",
            "  Downloading https://files.pythonhosted.org/packages/5f/39/fc4e4c54424399a2da584fe61a974051f270df56acda474bf3b65efa1733/globe-1.0.52.tar.gz\n",
            "Collecting pycurl\n",
            "\u001b[?25l  Downloading https://files.pythonhosted.org/packages/50/1a/35b1d8b8e4e23a234f1b17a8a40299fd550940b16866c9a1f2d47a04b969/pycurl-7.43.0.6.tar.gz (222kB)\n",
            "\u001b[K     |████████████████████████████████| 225kB 7.7MB/s \n",
            "\u001b[?25hBuilding wheels for collected packages: globe, pycurl\n",
            "  Building wheel for globe (setup.py) ... \u001b[?25l\u001b[?25hdone\n",
            "  Created wheel for globe: filename=globe-1.0.52-cp36-none-any.whl size=23683 sha256=3aaae9b0490f540628744f9c1aa203ad1d55e01053c1d7e670a4d9a633629d7c\n",
            "  Stored in directory: /root/.cache/pip/wheels/b6/c2/c0/a89cc5d825c6bb3737508a900a5dafafd1d5114ada80871310\n",
            "  Building wheel for pycurl (setup.py) ... \u001b[?25l\u001b[?25hdone\n",
            "  Created wheel for pycurl: filename=pycurl-7.43.0.6-cp36-cp36m-linux_x86_64.whl size=284366 sha256=2a44fd0ca5951ff8ec01ce3996e40a4de9b796bcfe6b8fcad4f079bd368368c1\n",
            "  Stored in directory: /root/.cache/pip/wheels/d9/a1/7b/2894883fd5c69a3ba684a49d255466d1e924b3cf58cedc1ade\n",
            "Successfully built globe pycurl\n",
            "Installing collected packages: pycurl, globe\n",
            "Successfully installed globe-1.0.52 pycurl-7.43.0.6\n"
          ],
          "name": "stdout"
        }
      ]
    },
    {
      "cell_type": "code",
      "metadata": {
        "id": "Kttil895U9Wr"
      },
      "source": [
        "import tensorflow as tf\n",
        "from keras.layers import Input,Lambda,Dense,Flatten\n",
        "from keras.models import Model\n",
        "from keras.applications.vgg16 import VGG16\n",
        "from keras.applications.vgg16 import preprocess_input\n",
        "from keras.preprocessing import image\n",
        "from keras.preprocessing.image import ImageDataGenerator\n",
        "import numpy as np\n",
        "import glob as glob"
      ],
      "execution_count": null,
      "outputs": []
    },
    {
      "cell_type": "code",
      "metadata": {
        "colab": {
          "base_uri": "https://localhost:8080/"
        },
        "id": "jFaxhco0ZBmt",
        "outputId": "fb531f80-8633-4a15-f386-8972a4c580b4"
      },
      "source": [
        "IMG_SIZE = [224,224]\n",
        "vgg = VGG16(input_shape = IMG_SIZE + [3],weights = 'imagenet',include_top =False)"
      ],
      "execution_count": null,
      "outputs": [
        {
          "output_type": "stream",
          "text": [
            "Downloading data from https://storage.googleapis.com/tensorflow/keras-applications/vgg16/vgg16_weights_tf_dim_ordering_tf_kernels_notop.h5\n",
            "58892288/58889256 [==============================] - 0s 0us/step\n"
          ],
          "name": "stdout"
        }
      ]
    },
    {
      "cell_type": "code",
      "metadata": {
        "id": "b9fSkG8CaJup"
      },
      "source": [
        "for layer in vgg.layers:\n",
        "  layer.trainable = False"
      ],
      "execution_count": null,
      "outputs": []
    },
    {
      "cell_type": "code",
      "metadata": {
        "colab": {
          "base_uri": "https://localhost:8080/"
        },
        "id": "t1nwVADSaiVZ",
        "outputId": "3d630ba9-3e46-40c5-a9d8-631dd279edcc"
      },
      "source": [
        "vgg.summary()"
      ],
      "execution_count": null,
      "outputs": [
        {
          "output_type": "stream",
          "text": [
            "Model: \"vgg16\"\n",
            "_________________________________________________________________\n",
            "Layer (type)                 Output Shape              Param #   \n",
            "=================================================================\n",
            "input_1 (InputLayer)         [(None, 224, 224, 3)]     0         \n",
            "_________________________________________________________________\n",
            "block1_conv1 (Conv2D)        (None, 224, 224, 64)      1792      \n",
            "_________________________________________________________________\n",
            "block1_conv2 (Conv2D)        (None, 224, 224, 64)      36928     \n",
            "_________________________________________________________________\n",
            "block1_pool (MaxPooling2D)   (None, 112, 112, 64)      0         \n",
            "_________________________________________________________________\n",
            "block2_conv1 (Conv2D)        (None, 112, 112, 128)     73856     \n",
            "_________________________________________________________________\n",
            "block2_conv2 (Conv2D)        (None, 112, 112, 128)     147584    \n",
            "_________________________________________________________________\n",
            "block2_pool (MaxPooling2D)   (None, 56, 56, 128)       0         \n",
            "_________________________________________________________________\n",
            "block3_conv1 (Conv2D)        (None, 56, 56, 256)       295168    \n",
            "_________________________________________________________________\n",
            "block3_conv2 (Conv2D)        (None, 56, 56, 256)       590080    \n",
            "_________________________________________________________________\n",
            "block3_conv3 (Conv2D)        (None, 56, 56, 256)       590080    \n",
            "_________________________________________________________________\n",
            "block3_pool (MaxPooling2D)   (None, 28, 28, 256)       0         \n",
            "_________________________________________________________________\n",
            "block4_conv1 (Conv2D)        (None, 28, 28, 512)       1180160   \n",
            "_________________________________________________________________\n",
            "block4_conv2 (Conv2D)        (None, 28, 28, 512)       2359808   \n",
            "_________________________________________________________________\n",
            "block4_conv3 (Conv2D)        (None, 28, 28, 512)       2359808   \n",
            "_________________________________________________________________\n",
            "block4_pool (MaxPooling2D)   (None, 14, 14, 512)       0         \n",
            "_________________________________________________________________\n",
            "block5_conv1 (Conv2D)        (None, 14, 14, 512)       2359808   \n",
            "_________________________________________________________________\n",
            "block5_conv2 (Conv2D)        (None, 14, 14, 512)       2359808   \n",
            "_________________________________________________________________\n",
            "block5_conv3 (Conv2D)        (None, 14, 14, 512)       2359808   \n",
            "_________________________________________________________________\n",
            "block5_pool (MaxPooling2D)   (None, 7, 7, 512)         0         \n",
            "=================================================================\n",
            "Total params: 14,714,688\n",
            "Trainable params: 0\n",
            "Non-trainable params: 14,714,688\n",
            "_________________________________________________________________\n"
          ],
          "name": "stdout"
        }
      ]
    },
    {
      "cell_type": "code",
      "metadata": {
        "id": "dk12H6aBamaz"
      },
      "source": [
        "#folders = glob('/content/images')"
      ],
      "execution_count": null,
      "outputs": []
    },
    {
      "cell_type": "code",
      "metadata": {
        "id": "76ZieQIka3Z4"
      },
      "source": [
        "x = Flatten()(vgg.output)\n",
        "prediction = Dense(2,activation = 'softmax')(x)"
      ],
      "execution_count": null,
      "outputs": []
    },
    {
      "cell_type": "code",
      "metadata": {
        "id": "zN88yWiSb-LQ"
      },
      "source": [
        "model = Model(inputs= vgg.input,outputs = prediction)"
      ],
      "execution_count": null,
      "outputs": []
    },
    {
      "cell_type": "code",
      "metadata": {
        "colab": {
          "base_uri": "https://localhost:8080/"
        },
        "id": "x3yZx25ncwdw",
        "outputId": "fe985eba-ee32-497e-abb8-4ac07e18c6a8"
      },
      "source": [
        "model.summary()"
      ],
      "execution_count": null,
      "outputs": [
        {
          "output_type": "stream",
          "text": [
            "Model: \"functional_1\"\n",
            "_________________________________________________________________\n",
            "Layer (type)                 Output Shape              Param #   \n",
            "=================================================================\n",
            "input_1 (InputLayer)         [(None, 224, 224, 3)]     0         \n",
            "_________________________________________________________________\n",
            "block1_conv1 (Conv2D)        (None, 224, 224, 64)      1792      \n",
            "_________________________________________________________________\n",
            "block1_conv2 (Conv2D)        (None, 224, 224, 64)      36928     \n",
            "_________________________________________________________________\n",
            "block1_pool (MaxPooling2D)   (None, 112, 112, 64)      0         \n",
            "_________________________________________________________________\n",
            "block2_conv1 (Conv2D)        (None, 112, 112, 128)     73856     \n",
            "_________________________________________________________________\n",
            "block2_conv2 (Conv2D)        (None, 112, 112, 128)     147584    \n",
            "_________________________________________________________________\n",
            "block2_pool (MaxPooling2D)   (None, 56, 56, 128)       0         \n",
            "_________________________________________________________________\n",
            "block3_conv1 (Conv2D)        (None, 56, 56, 256)       295168    \n",
            "_________________________________________________________________\n",
            "block3_conv2 (Conv2D)        (None, 56, 56, 256)       590080    \n",
            "_________________________________________________________________\n",
            "block3_conv3 (Conv2D)        (None, 56, 56, 256)       590080    \n",
            "_________________________________________________________________\n",
            "block3_pool (MaxPooling2D)   (None, 28, 28, 256)       0         \n",
            "_________________________________________________________________\n",
            "block4_conv1 (Conv2D)        (None, 28, 28, 512)       1180160   \n",
            "_________________________________________________________________\n",
            "block4_conv2 (Conv2D)        (None, 28, 28, 512)       2359808   \n",
            "_________________________________________________________________\n",
            "block4_conv3 (Conv2D)        (None, 28, 28, 512)       2359808   \n",
            "_________________________________________________________________\n",
            "block4_pool (MaxPooling2D)   (None, 14, 14, 512)       0         \n",
            "_________________________________________________________________\n",
            "block5_conv1 (Conv2D)        (None, 14, 14, 512)       2359808   \n",
            "_________________________________________________________________\n",
            "block5_conv2 (Conv2D)        (None, 14, 14, 512)       2359808   \n",
            "_________________________________________________________________\n",
            "block5_conv3 (Conv2D)        (None, 14, 14, 512)       2359808   \n",
            "_________________________________________________________________\n",
            "block5_pool (MaxPooling2D)   (None, 7, 7, 512)         0         \n",
            "_________________________________________________________________\n",
            "flatten (Flatten)            (None, 25088)             0         \n",
            "_________________________________________________________________\n",
            "dense (Dense)                (None, 2)                 50178     \n",
            "=================================================================\n",
            "Total params: 14,764,866\n",
            "Trainable params: 50,178\n",
            "Non-trainable params: 14,714,688\n",
            "_________________________________________________________________\n"
          ],
          "name": "stdout"
        }
      ]
    },
    {
      "cell_type": "code",
      "metadata": {
        "id": "YV01KsztdFFX"
      },
      "source": [
        "model.compile(loss = 'categorical_crossentropy',optimizer = 'adam',metrics = ['accuracy'])"
      ],
      "execution_count": null,
      "outputs": []
    },
    {
      "cell_type": "code",
      "metadata": {
        "id": "gTt1uv7rdb-p"
      },
      "source": [
        "from keras.preprocessing.image import ImageDataGenerator"
      ],
      "execution_count": null,
      "outputs": []
    },
    {
      "cell_type": "code",
      "metadata": {
        "id": "ZNKSGGNAdnLs"
      },
      "source": [
        "train_datagen = ImageDataGenerator(rescale = 1./255,shear_range = 0.2,zoom_range = 0.2,horizontal_flip = True)"
      ],
      "execution_count": null,
      "outputs": []
    },
    {
      "cell_type": "code",
      "metadata": {
        "id": "6gQkzGItesHt"
      },
      "source": [
        "test_datagen = ImageDataGenerator(rescale = 1./255)"
      ],
      "execution_count": null,
      "outputs": []
    },
    {
      "cell_type": "code",
      "metadata": {
        "colab": {
          "base_uri": "https://localhost:8080/"
        },
        "id": "YuVy2Eebe2I4",
        "outputId": "67288b68-6de7-4b1f-ffd8-c2b9b45a74dd"
      },
      "source": [
        "training_set = train_datagen.flow_from_directory('/content/images',target_size = (224,224),batch_size = 32,class_mode = 'categorical')"
      ],
      "execution_count": null,
      "outputs": [
        {
          "output_type": "stream",
          "text": [
            "Found 97 images belonging to 2 classes.\n"
          ],
          "name": "stdout"
        }
      ]
    },
    {
      "cell_type": "code",
      "metadata": {
        "colab": {
          "base_uri": "https://localhost:8080/"
        },
        "id": "d5fsBSoafPBG",
        "outputId": "b7a81129-832e-4c0f-d41f-7cb1373da4d1"
      },
      "source": [
        "test_set = test_datagen.flow_from_directory('/content/images',target_size = (224,224),batch_size = 32,class_mode = 'categorical')"
      ],
      "execution_count": null,
      "outputs": [
        {
          "output_type": "stream",
          "text": [
            "Found 97 images belonging to 2 classes.\n"
          ],
          "name": "stdout"
        }
      ]
    },
    {
      "cell_type": "code",
      "metadata": {
        "colab": {
          "base_uri": "https://localhost:8080/"
        },
        "id": "4u1wtHnDfshm",
        "outputId": "7f343470-91e0-46d9-892c-be79527465be"
      },
      "source": [
        "r = model.fit_generator(training_set,validation_data = test_set,epochs = 5,steps_per_epoch =len(training_set),validation_steps = len(test_set))"
      ],
      "execution_count": null,
      "outputs": [
        {
          "output_type": "stream",
          "text": [
            "WARNING:tensorflow:From <ipython-input-24-f234c3e134d3>:1: Model.fit_generator (from tensorflow.python.keras.engine.training) is deprecated and will be removed in a future version.\n",
            "Instructions for updating:\n",
            "Please use Model.fit, which supports generators.\n",
            "Epoch 1/5\n",
            "4/4 [==============================] - 5s 1s/step - loss: 2.4044 - accuracy: 0.5361 - val_loss: 0.9406 - val_accuracy: 0.5464\n",
            "Epoch 2/5\n",
            "4/4 [==============================] - 6s 1s/step - loss: 0.5884 - accuracy: 0.7423 - val_loss: 0.5019 - val_accuracy: 0.7732\n",
            "Epoch 3/5\n",
            "4/4 [==============================] - 4s 1s/step - loss: 0.3203 - accuracy: 0.8763 - val_loss: 0.3954 - val_accuracy: 0.8247\n",
            "Epoch 4/5\n",
            "4/4 [==============================] - 4s 1s/step - loss: 0.6729 - accuracy: 0.6907 - val_loss: 0.2131 - val_accuracy: 0.9381\n",
            "Epoch 5/5\n",
            "4/4 [==============================] - 5s 1s/step - loss: 0.1667 - accuracy: 0.9485 - val_loss: 0.2988 - val_accuracy: 0.9072\n"
          ],
          "name": "stdout"
        }
      ]
    },
    {
      "cell_type": "code",
      "metadata": {
        "colab": {
          "base_uri": "https://localhost:8080/"
        },
        "id": "zrP0-sOjg_Zd",
        "outputId": "24901237-009f-433a-d931-26bdf7891f21"
      },
      "source": [
        "r.history['loss']"
      ],
      "execution_count": null,
      "outputs": [
        {
          "output_type": "execute_result",
          "data": {
            "text/plain": [
              "[2.4044225215911865,\n",
              " 0.588424026966095,\n",
              " 0.3203483521938324,\n",
              " 0.6728785634040833,\n",
              " 0.16673676669597626]"
            ]
          },
          "metadata": {
            "tags": []
          },
          "execution_count": 25
        }
      ]
    },
    {
      "cell_type": "code",
      "metadata": {
        "id": "rA7sMoJ0jPsM"
      },
      "source": [
        ""
      ],
      "execution_count": null,
      "outputs": []
    },
    {
      "cell_type": "code",
      "metadata": {
        "id": "p7VrgyYTjbNC"
      },
      "source": [
        ""
      ],
      "execution_count": null,
      "outputs": []
    },
    {
      "cell_type": "code",
      "metadata": {
        "id": "lFLw610GjluZ"
      },
      "source": [
        "from sklearn.model_selection import GridSearchCV\n",
        "from sklearn import svm"
      ],
      "execution_count": null,
      "outputs": []
    },
    {
      "cell_type": "code",
      "metadata": {
        "colab": {
          "base_uri": "https://localhost:8080/"
        },
        "id": "5biqPlkLlIY9",
        "outputId": "7a6a7c20-577d-4dbf-c650-65dd1bd56904"
      },
      "source": [
        "param_grid = [\n",
        "              {'C' :[1,10,100,1000],'kernel':['linear']},\n",
        "              {'C':[1,10,100,1000],'gamma':[0.001,0.0001],'kernel':['rbf']},\n",
        "]\n",
        "svc = svm.SVC(probability = True)\n",
        "clf = GridSearchCV(svc,param_grid)\n",
        "clf.fit(x_train,y_train)"
      ],
      "execution_count": null,
      "outputs": [
        {
          "output_type": "execute_result",
          "data": {
            "text/plain": [
              "GridSearchCV(cv=None, error_score=nan,\n",
              "             estimator=SVC(C=1.0, break_ties=False, cache_size=200,\n",
              "                           class_weight=None, coef0=0.0,\n",
              "                           decision_function_shape='ovr', degree=3,\n",
              "                           gamma='scale', kernel='rbf', max_iter=-1,\n",
              "                           probability=True, random_state=None, shrinking=True,\n",
              "                           tol=0.001, verbose=False),\n",
              "             iid='deprecated', n_jobs=None,\n",
              "             param_grid=[{'C': [1, 10, 100, 1000], 'kernel': ['linear']},\n",
              "                         {'C': [1, 10, 100, 1000], 'gamma': [0.001, 0.0001],\n",
              "                          'kernel': ['rbf']}],\n",
              "             pre_dispatch='2*n_jobs', refit=True, return_train_score=False,\n",
              "             scoring=None, verbose=0)"
            ]
          },
          "metadata": {
            "tags": []
          },
          "execution_count": 27
        }
      ]
    },
    {
      "cell_type": "code",
      "metadata": {
        "colab": {
          "base_uri": "https://localhost:8080/"
        },
        "id": "drvswn0WuSWH",
        "outputId": "cc0ee9f6-512c-4419-e9c9-d080c8f3cf20"
      },
      "source": [
        "y_pred = clf.predict(x_test)\n",
        "y_pred"
      ],
      "execution_count": null,
      "outputs": [
        {
          "output_type": "execute_result",
          "data": {
            "text/plain": [
              "array([0, 1, 0, 0, 0, 0, 0, 0, 1, 0, 1, 1, 1, 1, 1, 1, 1, 0, 0, 0, 0, 1,\n",
              "       1, 0, 0, 0, 0, 1, 1, 0])"
            ]
          },
          "metadata": {
            "tags": []
          },
          "execution_count": 28
        }
      ]
    },
    {
      "cell_type": "code",
      "metadata": {
        "colab": {
          "base_uri": "https://localhost:8080/"
        },
        "id": "CgjQ-FFIEj1X",
        "outputId": "05a8e385-2f00-4287-a502-f2d3c537a51a"
      },
      "source": [
        "y_pred"
      ],
      "execution_count": null,
      "outputs": [
        {
          "output_type": "execute_result",
          "data": {
            "text/plain": [
              "array([0, 1, 0, 0, 0, 0, 0, 0, 1, 0, 1, 1, 1, 1, 1, 1, 1, 0, 0, 0, 0, 1,\n",
              "       1, 0, 0, 0, 0, 1, 1, 0])"
            ]
          },
          "metadata": {
            "tags": []
          },
          "execution_count": 29
        }
      ]
    },
    {
      "cell_type": "code",
      "metadata": {
        "id": "lqkxAH8dEoZE"
      },
      "source": [
        "from sklearn.metrics import accuracy_score,confusion_matrix"
      ],
      "execution_count": null,
      "outputs": []
    },
    {
      "cell_type": "code",
      "metadata": {
        "colab": {
          "base_uri": "https://localhost:8080/"
        },
        "id": "Yvs3tqNxFDfO",
        "outputId": "d3ccc944-470b-456f-ba80-21f0f0a438fa"
      },
      "source": [
        "accuracy_score(y_pred,y_test)"
      ],
      "execution_count": null,
      "outputs": [
        {
          "output_type": "execute_result",
          "data": {
            "text/plain": [
              "1.0"
            ]
          },
          "metadata": {
            "tags": []
          },
          "execution_count": 31
        }
      ]
    },
    {
      "cell_type": "code",
      "metadata": {
        "colab": {
          "base_uri": "https://localhost:8080/"
        },
        "id": "PXk9BrWkFNV1",
        "outputId": "7499ec68-63ed-4e90-d646-df19e7fddde1"
      },
      "source": [
        "confusion_matrix(y_pred,y_test)"
      ],
      "execution_count": null,
      "outputs": [
        {
          "output_type": "execute_result",
          "data": {
            "text/plain": [
              "array([[17,  0],\n",
              "       [ 0, 13]])"
            ]
          },
          "metadata": {
            "tags": []
          },
          "execution_count": 32
        }
      ]
    },
    {
      "cell_type": "code",
      "metadata": {
        "id": "8Dh3EUJ2H6P3"
      },
      "source": [
        "import pickle"
      ],
      "execution_count": null,
      "outputs": []
    },
    {
      "cell_type": "code",
      "metadata": {
        "id": "0s0ZDt4BMLLW"
      },
      "source": [
        "pickle.dump(clf,open('img_model.p','wb'))"
      ],
      "execution_count": null,
      "outputs": []
    },
    {
      "cell_type": "code",
      "metadata": {
        "id": "926uYAeNNEXu"
      },
      "source": [
        "model = pickle.load(open('img_model.p','rb'))"
      ],
      "execution_count": null,
      "outputs": []
    },
    {
      "cell_type": "code",
      "metadata": {
        "colab": {
          "base_uri": "https://localhost:8080/",
          "height": 319
        },
        "id": "RLNssUNKNk-G",
        "outputId": "faeb1adc-210d-40df-8ff8-831bec98af32"
      },
      "source": [
        "flat_data = []\n",
        "url = input('enter the url')\n",
        "img = imread(url)\n",
        "img_resized = resize(img,(160,160,3))\n",
        "flat_data.append(img_resized.flatten())\n",
        "flat_data = np.array(flat_data)\n",
        "print(img.shape)\n",
        "plt.imshow(img_resized)\n",
        "plt.imshow(img_resized)\n",
        "y_out = model.predict(flat_data)\n",
        "y_out = CATEGORIES[y_out[0]]\n",
        "print(f'PREDICTED OUTPUT:{y_out}')"
      ],
      "execution_count": null,
      "outputs": [
        {
          "output_type": "stream",
          "text": [
            "enter the urlhttps://th.bing.com/th/id/OIP.SMpjeK8rtVk6yLgU3NfV2QHaEK?pid=Api&rs=1.jpg\n",
            "(266, 474, 3)\n",
            "PREDICTED OUTPUT:pulsar stars\n"
          ],
          "name": "stdout"
        },
        {
          "output_type": "display_data",
          "data": {
            "image/png": "[encoded data removed]",
            "text/plain": [
              "<Figure size 432x288 with 1 Axes>"
            ]
          },
          "metadata": {
            "tags": [],
            "needs_background": "light"
          }
        }
      ]
    },
    {
      "cell_type": "code",
      "metadata": {
        "id": "1zGJzTTQQ2Sg",
        "colab": {
          "base_uri": "https://localhost:8080/",
          "height": 1000
        },
        "outputId": "499d713e-b2cf-4fce-d146-618d367885f9"
      },
      "source": [
        "!pip install streamlit"
      ],
      "execution_count": null,
      "outputs": [
        {
          "output_type": "stream",
          "text": [
            "Collecting streamlit\n",
            "\u001b[?25l  Downloading https://files.pythonhosted.org/packages/a3/3b/8b70128553de980a5120b512c8eedc3667deced9554fc399703414b1d8cf/streamlit-0.72.0-py2.py3-none-any.whl (7.4MB)\n",
            "\u001b[K     |████████████████████████████████| 7.4MB 7.7MB/s \n",
            "\u001b[?25hCollecting pydeck>=0.1.dev5\n",
            "\u001b[?25l  Downloading https://files.pythonhosted.org/packages/9e/9d/8fbf1f56cc5891e6c3295bf94fc176e9ab0a3ffdd090cc8b354ac2640f9a/pydeck-0.5.0-py2.py3-none-any.whl (4.5MB)\n",
            "\u001b[K     |████████████████████████████████| 4.5MB 53.2MB/s \n",
            "\u001b[?25hRequirement already satisfied: pandas>=0.21.0 in /usr/local/lib/python3.6/dist-packages (from streamlit) (1.1.5)\n",
            "Requirement already satisfied: packaging in /usr/local/lib/python3.6/dist-packages (from streamlit) (20.7)\n",
            "Requirement already satisfied: toml in /usr/local/lib/python3.6/dist-packages (from streamlit) (0.10.2)\n",
            "Requirement already satisfied: pyarrow in /usr/local/lib/python3.6/dist-packages (from streamlit) (0.14.1)\n",
            "Requirement already satisfied: cachetools>=4.0 in /usr/local/lib/python3.6/dist-packages (from streamlit) (4.1.1)\n",
            "Collecting base58\n",
            "  Downloading https://files.pythonhosted.org/packages/3c/03/58572025c77b9e6027155b272a1b96298e711cd4f95c24967f7137ab0c4b/base58-2.0.1-py3-none-any.whl\n",
            "Collecting blinker\n",
            "\u001b[?25l  Downloading https://files.pythonhosted.org/packages/1b/51/e2a9f3b757eb802f61dc1f2b09c8c99f6eb01cf06416c0671253536517b6/blinker-1.4.tar.gz (111kB)\n",
            "\u001b[K     |████████████████████████████████| 112kB 63.1MB/s \n",
            "\u001b[?25hRequirement already satisfied: tzlocal in /usr/local/lib/python3.6/dist-packages (from streamlit) (1.5.1)\n",
            "Requirement already satisfied: tornado>=5.0 in /usr/local/lib/python3.6/dist-packages (from streamlit) (5.1.1)\n",
            "Collecting gitpython\n",
            "\u001b[?25l  Downloading https://files.pythonhosted.org/packages/24/d1/a7f8fe3df258549b303415157328bfcc63e9b11d06a7ad7a3327f3d32606/GitPython-3.1.11-py3-none-any.whl (159kB)\n",
            "\u001b[K     |████████████████████████████████| 163kB 51.0MB/s \n",
            "\u001b[?25hRequirement already satisfied: click>=7.0 in /usr/local/lib/python3.6/dist-packages (from streamlit) (7.1.2)\n",
            "Requirement already satisfied: astor in /usr/local/lib/python3.6/dist-packages (from streamlit) (0.8.1)\n",
            "Requirement already satisfied: numpy in /usr/local/lib/python3.6/dist-packages (from streamlit) (1.18.5)\n",
            "Collecting watchdog\n",
            "\u001b[?25l  Downloading https://files.pythonhosted.org/packages/e6/76/39d123d37908a772b6a281d85fbb4384d9db7e13d19d10ad409006bd2962/watchdog-1.0.1.tar.gz (97kB)\n",
            "\u001b[K     |████████████████████████████████| 102kB 14.7MB/s \n",
            "\u001b[?25hRequirement already satisfied: python-dateutil in /usr/local/lib/python3.6/dist-packages (from streamlit) (2.8.1)\n",
            "Collecting validators\n",
            "  Downloading https://files.pythonhosted.org/packages/41/4a/3360ff3cf2b4a1b9721ac1fbff5f84663f41047d9874b3aa1ac82e862c44/validators-0.18.1-py3-none-any.whl\n",
            "Requirement already satisfied: requests in /usr/local/lib/python3.6/dist-packages (from streamlit) (2.23.0)\n",
            "Requirement already satisfied: altair>=3.2.0 in /usr/local/lib/python3.6/dist-packages (from streamlit) (4.1.0)\n",
            "Requirement already satisfied: protobuf!=3.11,>=3.6.0 in /usr/local/lib/python3.6/dist-packages (from streamlit) (3.12.4)\n",
            "Requirement already satisfied: pillow>=6.2.0 in /usr/local/lib/python3.6/dist-packages (from streamlit) (7.0.0)\n",
            "Requirement already satisfied: traitlets>=4.3.2 in /usr/local/lib/python3.6/dist-packages (from pydeck>=0.1.dev5->streamlit) (4.3.3)\n",
            "Requirement already satisfied: ipywidgets>=7.0.0 in /usr/local/lib/python3.6/dist-packages (from pydeck>=0.1.dev5->streamlit) (7.5.1)\n",
            "Requirement already satisfied: jinja2>=2.10.1 in /usr/local/lib/python3.6/dist-packages (from pydeck>=0.1.dev5->streamlit) (2.11.2)\n",
            "Collecting ipykernel>=5.1.2; python_version >= \"3.4\"\n",
            "\u001b[?25l  Downloading https://files.pythonhosted.org/packages/56/c5/97a972202414c79c28814b1450a31a89777638fb3524e8b5b686a5436abe/ipykernel-5.4.2-py3-none-any.whl (119kB)\n",
            "\u001b[K     |████████████████████████████████| 122kB 57.9MB/s \n",
            "\u001b[?25hRequirement already satisfied: pytz>=2017.2 in /usr/local/lib/python3.6/dist-packages (from pandas>=0.21.0->streamlit) (2018.9)\n",
            "Requirement already satisfied: pyparsing>=2.0.2 in /usr/local/lib/python3.6/dist-packages (from packaging->streamlit) (2.4.7)\n",
            "Requirement already satisfied: six>=1.0.0 in /usr/local/lib/python3.6/dist-packages (from pyarrow->streamlit) (1.15.0)\n",
            "Collecting gitdb<5,>=4.0.1\n",
            "\u001b[?25l  Downloading https://files.pythonhosted.org/packages/48/11/d1800bca0a3bae820b84b7d813ad1eff15a48a64caea9c823fc8c1b119e8/gitdb-4.0.5-py3-none-any.whl (63kB)\n",
            "\u001b[K     |████████████████████████████████| 71kB 11.1MB/s \n",
            "\u001b[?25hRequirement already satisfied: decorator>=3.4.0 in /usr/local/lib/python3.6/dist-packages (from validators->streamlit) (4.4.2)\n",
            "Requirement already satisfied: certifi>=2017.4.17 in /usr/local/lib/python3.6/dist-packages (from requests->streamlit) (2020.12.5)\n",
            "Requirement already satisfied: idna<3,>=2.5 in /usr/local/lib/python3.6/dist-packages (from requests->streamlit) (2.10)\n",
            "Requirement already satisfied: chardet<4,>=3.0.2 in /usr/local/lib/python3.6/dist-packages (from requests->streamlit) (3.0.4)\n",
            "Requirement already satisfied: urllib3!=1.25.0,!=1.25.1,<1.26,>=1.21.1 in /usr/local/lib/python3.6/dist-packages (from requests->streamlit) (1.24.3)\n",
            "Requirement already satisfied: jsonschema in /usr/local/lib/python3.6/dist-packages (from altair>=3.2.0->streamlit) (2.6.0)\n",
            "Requirement already satisfied: toolz in /usr/local/lib/python3.6/dist-packages (from altair>=3.2.0->streamlit) (0.11.1)\n",
            "Requirement already satisfied: entrypoints in /usr/local/lib/python3.6/dist-packages (from altair>=3.2.0->streamlit) (0.3)\n",
            "Requirement already satisfied: setuptools in /usr/local/lib/python3.6/dist-packages (from protobuf!=3.11,>=3.6.0->streamlit) (50.3.2)\n",
            "Requirement already satisfied: ipython-genutils in /usr/local/lib/python3.6/dist-packages (from traitlets>=4.3.2->pydeck>=0.1.dev5->streamlit) (0.2.0)\n",
            "Requirement already satisfied: widgetsnbextension~=3.5.0 in /usr/local/lib/python3.6/dist-packages (from ipywidgets>=7.0.0->pydeck>=0.1.dev5->streamlit) (3.5.1)\n",
            "Requirement already satisfied: nbformat>=4.2.0 in /usr/local/lib/python3.6/dist-packages (from ipywidgets>=7.0.0->pydeck>=0.1.dev5->streamlit) (5.0.8)\n",
            "Requirement already satisfied: ipython>=4.0.0; python_version >= \"3.3\" in /usr/local/lib/python3.6/dist-packages (from ipywidgets>=7.0.0->pydeck>=0.1.dev5->streamlit) (5.5.0)\n",
            "Requirement already satisfied: MarkupSafe>=0.23 in /usr/local/lib/python3.6/dist-packages (from jinja2>=2.10.1->pydeck>=0.1.dev5->streamlit) (1.1.1)\n",
            "Requirement already satisfied: jupyter-client in /usr/local/lib/python3.6/dist-packages (from ipykernel>=5.1.2; python_version >= \"3.4\"->pydeck>=0.1.dev5->streamlit) (5.3.5)\n",
            "Collecting smmap<4,>=3.0.1\n",
            "  Downloading https://files.pythonhosted.org/packages/b0/9a/4d409a6234eb940e6a78dfdfc66156e7522262f5f2fecca07dc55915952d/smmap-3.0.4-py2.py3-none-any.whl\n",
            "Requirement already satisfied: notebook>=4.4.1 in /usr/local/lib/python3.6/dist-packages (from widgetsnbextension~=3.5.0->ipywidgets>=7.0.0->pydeck>=0.1.dev5->streamlit) (5.3.1)\n",
            "Requirement already satisfied: jupyter-core in /usr/local/lib/python3.6/dist-packages (from nbformat>=4.2.0->ipywidgets>=7.0.0->pydeck>=0.1.dev5->streamlit) (4.7.0)\n",
            "Requirement already satisfied: pickleshare in /usr/local/lib/python3.6/dist-packages (from ipython>=4.0.0; python_version >= \"3.3\"->ipywidgets>=7.0.0->pydeck>=0.1.dev5->streamlit) (0.7.5)\n",
            "Requirement already satisfied: pexpect; sys_platform != \"win32\" in /usr/local/lib/python3.6/dist-packages (from ipython>=4.0.0; python_version >= \"3.3\"->ipywidgets>=7.0.0->pydeck>=0.1.dev5->streamlit) (4.8.0)\n",
            "Requirement already satisfied: simplegeneric>0.8 in /usr/local/lib/python3.6/dist-packages (from ipython>=4.0.0; python_version >= \"3.3\"->ipywidgets>=7.0.0->pydeck>=0.1.dev5->streamlit) (0.8.1)\n",
            "Requirement already satisfied: pygments in /usr/local/lib/python3.6/dist-packages (from ipython>=4.0.0; python_version >= \"3.3\"->ipywidgets>=7.0.0->pydeck>=0.1.dev5->streamlit) (2.6.1)\n",
            "Requirement already satisfied: prompt-toolkit<2.0.0,>=1.0.4 in /usr/local/lib/python3.6/dist-packages (from ipython>=4.0.0; python_version >= \"3.3\"->ipywidgets>=7.0.0->pydeck>=0.1.dev5->streamlit) (1.0.18)\n",
            "Requirement already satisfied: pyzmq>=13 in /usr/local/lib/python3.6/dist-packages (from jupyter-client->ipykernel>=5.1.2; python_version >= \"3.4\"->pydeck>=0.1.dev5->streamlit) (20.0.0)\n",
            "Requirement already satisfied: terminado>=0.8.1 in /usr/local/lib/python3.6/dist-packages (from notebook>=4.4.1->widgetsnbextension~=3.5.0->ipywidgets>=7.0.0->pydeck>=0.1.dev5->streamlit) (0.9.1)\n",
            "Requirement already satisfied: Send2Trash in /usr/local/lib/python3.6/dist-packages (from notebook>=4.4.1->widgetsnbextension~=3.5.0->ipywidgets>=7.0.0->pydeck>=0.1.dev5->streamlit) (1.5.0)\n",
            "Requirement already satisfied: nbconvert in /usr/local/lib/python3.6/dist-packages (from notebook>=4.4.1->widgetsnbextension~=3.5.0->ipywidgets>=7.0.0->pydeck>=0.1.dev5->streamlit) (5.6.1)\n",
            "Requirement already satisfied: ptyprocess>=0.5 in /usr/local/lib/python3.6/dist-packages (from pexpect; sys_platform != \"win32\"->ipython>=4.0.0; python_version >= \"3.3\"->ipywidgets>=7.0.0->pydeck>=0.1.dev5->streamlit) (0.6.0)\n",
            "Requirement already satisfied: wcwidth in /usr/local/lib/python3.6/dist-packages (from prompt-toolkit<2.0.0,>=1.0.4->ipython>=4.0.0; python_version >= \"3.3\"->ipywidgets>=7.0.0->pydeck>=0.1.dev5->streamlit) (0.2.5)\n",
            "Requirement already satisfied: bleach in /usr/local/lib/python3.6/dist-packages (from nbconvert->notebook>=4.4.1->widgetsnbextension~=3.5.0->ipywidgets>=7.0.0->pydeck>=0.1.dev5->streamlit) (3.2.1)\n",
            "Requirement already satisfied: defusedxml in /usr/local/lib/python3.6/dist-packages (from nbconvert->notebook>=4.4.1->widgetsnbextension~=3.5.0->ipywidgets>=7.0.0->pydeck>=0.1.dev5->streamlit) (0.6.0)\n",
            "Requirement already satisfied: testpath in /usr/local/lib/python3.6/dist-packages (from nbconvert->notebook>=4.4.1->widgetsnbextension~=3.5.0->ipywidgets>=7.0.0->pydeck>=0.1.dev5->streamlit) (0.4.4)\n",
            "Requirement already satisfied: pandocfilters>=1.4.1 in /usr/local/lib/python3.6/dist-packages (from nbconvert->notebook>=4.4.1->widgetsnbextension~=3.5.0->ipywidgets>=7.0.0->pydeck>=0.1.dev5->streamlit) (1.4.3)\n",
            "Requirement already satisfied: mistune<2,>=0.8.1 in /usr/local/lib/python3.6/dist-packages (from nbconvert->notebook>=4.4.1->widgetsnbextension~=3.5.0->ipywidgets>=7.0.0->pydeck>=0.1.dev5->streamlit) (0.8.4)\n",
            "Requirement already satisfied: webencodings in /usr/local/lib/python3.6/dist-packages (from bleach->nbconvert->notebook>=4.4.1->widgetsnbextension~=3.5.0->ipywidgets>=7.0.0->pydeck>=0.1.dev5->streamlit) (0.5.1)\n",
            "Building wheels for collected packages: blinker, watchdog\n",
            "  Building wheel for blinker (setup.py) ... \u001b[?25l\u001b[?25hdone\n",
            "  Created wheel for blinker: filename=blinker-1.4-cp36-none-any.whl size=13450 sha256=37915a744fd99a060a4c716cad2d896dc773219e6f595783cf4e448687c439cb\n",
            "  Stored in directory: /root/.cache/pip/wheels/92/a0/00/8690a57883956a301d91cf4ec999cc0b258b01e3f548f86e89\n",
            "  Building wheel for watchdog (setup.py) ... \u001b[?25l\u001b[?25hdone\n",
            "  Created wheel for watchdog: filename=watchdog-1.0.1-cp36-none-any.whl size=72206 sha256=a752392c5287d69248956c35d9cff5a8b2ff180ee7c4f408394b077246763855\n",
            "  Stored in directory: /root/.cache/pip/wheels/d8/ce/d8/31a48288b5728794feda5ac479fa324cc1cde4398c29eff064\n",
            "Successfully built blinker watchdog\n",
            "\u001b[31mERROR: google-colab 1.0.0 has requirement ipykernel~=4.10, but you'll have ipykernel 5.4.2 which is incompatible.\u001b[0m\n",
            "Installing collected packages: ipykernel, pydeck, base58, blinker, smmap, gitdb, gitpython, watchdog, validators, streamlit\n",
            "  Found existing installation: ipykernel 4.10.1\n",
            "    Uninstalling ipykernel-4.10.1:\n",
            "      Successfully uninstalled ipykernel-4.10.1\n",
            "Successfully installed base58-2.0.1 blinker-1.4 gitdb-4.0.5 gitpython-3.1.11 ipykernel-5.4.2 pydeck-0.5.0 smmap-3.0.4 streamlit-0.72.0 validators-0.18.1 watchdog-1.0.1\n"
          ],
          "name": "stdout"
        },
        {
          "output_type": "display_data",
          "data": {
            "application/vnd.colab-display-data+json": {
              "pip_warning": {
                "packages": [
                  "ipykernel"
                ]
              }
            }
          },
          "metadata": {
            "tags": []
          }
        }
      ]
    },
    {
      "cell_type": "code",
      "metadata": {
        "id": "58sup2lWTZSG",
        "colab": {
          "base_uri": "https://localhost:8080/"
        },
        "outputId": "39b01a4c-82ee-4f0f-d052-49626f406cf3"
      },
      "source": [
        "!pip install pyngrok"
      ],
      "execution_count": null,
      "outputs": [
        {
          "output_type": "stream",
          "text": [
            "Collecting pyngrok\n",
            "  Downloading https://files.pythonhosted.org/packages/ea/63/e086f165125e9bf2e71c0db2955911baaaa0af8947ab5c7b3771bdf4d4d5/pyngrok-5.0.0.tar.gz\n",
            "Requirement already satisfied: PyYAML in /usr/local/lib/python3.6/dist-packages (from pyngrok) (3.13)\n",
            "Building wheels for collected packages: pyngrok\n",
            "  Building wheel for pyngrok (setup.py) ... \u001b[?25l\u001b[?25hdone\n",
            "  Created wheel for pyngrok: filename=pyngrok-5.0.0-cp36-none-any.whl size=18781 sha256=a1636400e7b9b070f63e232bcf2724420f17fe603b839ae32d755c85444c4e27\n",
            "  Stored in directory: /root/.cache/pip/wheels/95/df/23/af8dde08c3fcdc7b966adcacef48ab29aa3b0b1860df5d2b79\n",
            "Successfully built pyngrok\n",
            "Installing collected packages: pyngrok\n",
            "Successfully installed pyngrok-5.0.0\n"
          ],
          "name": "stdout"
        }
      ]
    },
    {
      "cell_type": "code",
      "metadata": {
        "id": "9RVsfmTLzhqr",
        "colab": {
          "base_uri": "https://localhost:8080/"
        },
        "outputId": "25daefee-6b72-4cfb-dc8c-0e8840276ddd"
      },
      "source": [
        "!ngrok authtoken 1lK3c47A9GAl1H6Zbs7BhYioq7h_5GgMFeSZjrF11J4YKDcC4"
      ],
      "execution_count": null,
      "outputs": [
        {
          "output_type": "stream",
          "text": [
            "Authtoken saved to configuration file: /root/.ngrok2/ngrok.yml\n"
          ],
          "name": "stdout"
        }
      ]
    },
    {
      "cell_type": "code",
      "metadata": {
        "id": "45DKj9IITe1-"
      },
      "source": [
        "from pyngrok import ngrok"
      ],
      "execution_count": null,
      "outputs": []
    },
    {
      "cell_type": "code",
      "metadata": {
        "id": "RugAHlVBTqky",
        "colab": {
          "base_uri": "https://localhost:8080/"
        },
        "outputId": "ac492d87-64fe-4072-cec9-8129e6e8d7ca"
      },
      "source": [
        "%%writefile my_app.py\n",
        "import streamlit as st\n",
        "import numpy as np\n",
        "from skimage.io import imread\n",
        "from skimge.transform import resize\n",
        "import pickle\n",
        "from PIL import Image\n",
        "st.title('IMAGE CLASSIFIER')\n",
        "st.text('upload images here:')\n",
        "\n",
        "model = pickle.load(open('img_model.p','rb'))\n",
        "uploaded_file = st.file_uploader(\"choose an image....\",type = \"jpg\")\n",
        "\n",
        "if uploaded_file is not None:\n",
        "  img = Image.open(uploaded_file)\n",
        "  st.image(img,caption  = 'uploaded_image')\n",
        "\n",
        "  if st.button('PREDICT'):\n",
        "    CATEGORIES = [\"pulsar stars\",\"black holes\"]\n",
        "    st.write('RESULT.....')\n",
        "    flat_data = []\n",
        "    img = np.array(img)\n",
        "    img_resized = resize(img,(160,160,3))\n",
        "    flat_data.append(img_resized.flatten())\n",
        "    flat_data = np.array(flat_data)\n",
        "    print(img.shape)\n",
        "    plt.imshow(img_resized)\n",
        "    y_out = model.predict(flat_data)\n",
        "    y_out = CATEGORIES[y_out[0]]\n",
        "    st.title(f'PREDICTED OUTPUT:{y_out}')\n"
      ],
      "execution_count": null,
      "outputs": [
        {
          "output_type": "stream",
          "text": [
            "Writing my_app.py\n"
          ],
          "name": "stdout"
        }
      ]
    },
    {
      "cell_type": "code",
      "metadata": {
        "id": "1l1_v5Qp3iW6"
      },
      "source": [
        ""
      ],
      "execution_count": null,
      "outputs": []
    },
    {
      "cell_type": "code",
      "metadata": {
        "id": "qxZdUsyUcYwn"
      },
      "source": [
        ""
      ],
      "execution_count": null,
      "outputs": []
    },
    {
      "cell_type": "code",
      "metadata": {
        "id": "fURDEtDAcDbC"
      },
      "source": [
        ""
      ],
      "execution_count": null,
      "outputs": []
    },
    {
      "cell_type": "code",
      "metadata": {
        "id": "o5onN_kOUpjK"
      },
      "source": [
        "\n"
      ],
      "execution_count": null,
      "outputs": []
    },
    {
      "cell_type": "code",
      "metadata": {
        "id": "Ai8ybuF4NIsa",
        "colab": {
          "base_uri": "https://localhost:8080/"
        },
        "outputId": "b34bb237-5de7-419a-ec46-a463c5e4be08"
      },
      "source": [
        "!nohup streamlit run app.py &"
      ],
      "execution_count": null,
      "outputs": [
        {
          "output_type": "stream",
          "text": [
            "nohup: appending output to 'nohup.out'\n"
          ],
          "name": "stdout"
        }
      ]
    },
    {
      "cell_type": "code",
      "metadata": {
        "id": "S3hx1WAyVHrL",
        "colab": {
          "base_uri": "https://localhost:8080/"
        },
        "outputId": "7ee8e836-7aeb-4daf-9aea-46245fc8d777"
      },
      "source": [
        "url = ngrok.connect(port ='8080' )\n",
        "url"
      ],
      "execution_count": null,
      "outputs": [
        {
          "output_type": "execute_result",
          "data": {
            "text/plain": [
              "<NgrokTunnel: \"http://1c931913ef63.ngrok.io\" -> \"http://localhost:80\">"
            ]
          },
          "metadata": {
            "tags": []
          },
          "execution_count": 43
        }
      ]
    },
    {
      "cell_type": "code",
      "metadata": {
        "id": "oHh3eWJoOBvg"
      },
      "source": [
        ""
      ],
      "execution_count": null,
      "outputs": []
    }
  ]
}