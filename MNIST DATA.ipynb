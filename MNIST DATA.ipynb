{
  "nbformat": 4,
  "nbformat_minor": 0,
  "metadata": {
    "colab": {
      "name": "Untitled11.ipynb",
      "provenance": [],
      "collapsed_sections": [],
      "authorship_tag": "ABX9TyOt0DzTvUDxFoZXxJNnGCyi",
      "include_colab_link": true
    },
    "kernelspec": {
      "name": "python3",
      "display_name": "Python 3"
    }
  },
  "cells": [
    {
      "cell_type": "markdown",
      "metadata": {
        "id": "view-in-github",
        "colab_type": "text"
      },
      "source": [
        "<a href=\"https://colab.research.google.com/github/kolhesamiksha/AI-learner/blob/main/MNIST%20DATA.ipynb\" target=\"_parent\"><img src=\"https://colab.research.google.com/assets/colab-badge.svg\" alt=\"Open In Colab\"/></a>"
      ]
    },
    {
      "cell_type": "code",
      "metadata": {
        "colab": {
          "base_uri": "https://localhost:8080/"
        },
        "id": "ZpSbw7dDZSq4",
        "outputId": "92a0a1cf-24c9-465a-a1b9-bf6945c6da08"
      },
      "source": [
        "import tensorflow as tf\n",
        "mnist = tf.keras.datasets.mnist\n",
        "(x_train,y_train),(x_test,y_test) = mnist.load_data()\n",
        "x_train = tf.keras.utils.normalize(x_train ,axis = 1)\n",
        "x_test = tf.keras.utils.normalize(x_test ,axis = 1)\n",
        "\n",
        "model = tf.keras.models.Sequential()\n",
        "model.add(tf.keras.layers.Flatten())\n",
        "model.add(tf.keras.layers.Dense(128, activation = 'relu'))\n",
        "model.add(tf.keras.layers.Dense(128, activation = 'relu'))\n",
        "model.add(tf.keras.layers.Dense(128, activation = 'softmax'))\n",
        "\n",
        "model.compile(optimizer = 'adam',loss = 'sparse_categorical_crossentropy',metrics = ['accuracy'])\n",
        "model.fit(x_train,y_train,epochs = 5)"
      ],
      "execution_count": 29,
      "outputs": [
        {
          "output_type": "stream",
          "text": [
            "Epoch 1/5\n",
            "1875/1875 [==============================] - 4s 2ms/step - loss: 0.3085 - accuracy: 0.9132\n",
            "Epoch 2/5\n",
            "1875/1875 [==============================] - 4s 2ms/step - loss: 0.1149 - accuracy: 0.9638\n",
            "Epoch 3/5\n",
            "1875/1875 [==============================] - 4s 2ms/step - loss: 0.0772 - accuracy: 0.9761\n",
            "Epoch 4/5\n",
            "1875/1875 [==============================] - 4s 2ms/step - loss: 0.0576 - accuracy: 0.9822\n",
            "Epoch 5/5\n",
            "1875/1875 [==============================] - 5s 2ms/step - loss: 0.0432 - accuracy: 0.9861\n"
          ],
          "name": "stdout"
        },
        {
          "output_type": "execute_result",
          "data": {
            "text/plain": [
              "<tensorflow.python.keras.callbacks.History at 0x7f9dc80f6e10>"
            ]
          },
          "metadata": {
            "tags": []
          },
          "execution_count": 29
        }
      ]
    },
    {
      "cell_type": "code",
      "metadata": {
        "colab": {
          "base_uri": "https://localhost:8080/"
        },
        "id": "vZKGh3gmaLOI",
        "outputId": "d9cee008-43e6-4c98-9c9f-53343fa336d3"
      },
      "source": [
        "val_loss , val_acc = model.evaluate(x_test,y_test)\n",
        "print(val_loss,val_acc)"
      ],
      "execution_count": 30,
      "outputs": [
        {
          "output_type": "stream",
          "text": [
            "313/313 [==============================] - 1s 2ms/step - loss: 0.0945 - accuracy: 0.9725\n",
            "0.09447416663169861 0.9725000262260437\n"
          ],
          "name": "stdout"
        }
      ]
    },
    {
      "cell_type": "code",
      "metadata": {
        "id": "FQ_ATeRycPq1"
      },
      "source": [
        "model.save('model.h5')"
      ],
      "execution_count": 31,
      "outputs": []
    },
    {
      "cell_type": "code",
      "metadata": {
        "id": "cAciNJjqckO7"
      },
      "source": [
        "new_model = tf.keras.models.load_model('model.h5')"
      ],
      "execution_count": 32,
      "outputs": []
    },
    {
      "cell_type": "code",
      "metadata": {
        "id": "xlH02mM-cuLP"
      },
      "source": [
        "predictions = new_model.predict([x_test])"
      ],
      "execution_count": 33,
      "outputs": []
    },
    {
      "cell_type": "code",
      "metadata": {
        "colab": {
          "base_uri": "https://localhost:8080/"
        },
        "id": "oJRB0UShc1hV",
        "outputId": "21ef3cd5-3719-44e8-fda6-05363122abef"
      },
      "source": [
        "print(predictions)"
      ],
      "execution_count": 34,
      "outputs": [
        {
          "output_type": "stream",
          "text": [
            "[[7.35330330e-09 2.60236197e-06 1.82626968e-06 ... 4.58931429e-14\n",
            "  7.68998106e-14 4.47200328e-14]\n",
            " [2.05453210e-09 1.70557629e-02 9.82939124e-01 ... 2.20815054e-17\n",
            "  4.32008667e-16 2.71692404e-15]\n",
            " [9.57635464e-08 9.99979854e-01 3.10395535e-07 ... 1.00421754e-11\n",
            "  8.13550442e-12 1.10665956e-11]\n",
            " ...\n",
            " [2.20196039e-08 2.32290081e-08 1.11170827e-07 ... 1.40979676e-13\n",
            "  6.66207608e-14 1.64004078e-13]\n",
            " [2.84725599e-09 1.91404990e-08 1.56558162e-08 ... 1.16591273e-14\n",
            "  5.88049845e-14 6.40358534e-14]\n",
            " [1.94966745e-08 1.26703026e-09 4.27919300e-09 ... 1.20338924e-15\n",
            "  1.46289896e-15 4.57529505e-15]]\n"
          ],
          "name": "stdout"
        }
      ]
    },
    {
      "cell_type": "code",
      "metadata": {
        "colab": {
          "base_uri": "https://localhost:8080/"
        },
        "id": "TASQuv3Wc6fU",
        "outputId": "e339cd31-2d12-4078-fe94-f9187f6ad9bc"
      },
      "source": [
        "import numpy as np\n",
        "\n",
        "print(np.argmax(predictions[8]))"
      ],
      "execution_count": 35,
      "outputs": [
        {
          "output_type": "stream",
          "text": [
            "5\n"
          ],
          "name": "stdout"
        }
      ]
    },
    {
      "cell_type": "code",
      "metadata": {
        "colab": {
          "base_uri": "https://localhost:8080/",
          "height": 265
        },
        "id": "hSd-2_2idH9S",
        "outputId": "2c2e9600-3232-47ef-d766-1c231d155a3d"
      },
      "source": [
        "import matplotlib.pyplot as plt\n",
        "plt.imshow(x_test[8])\n",
        "plt.show()"
      ],
      "execution_count": 36,
      "outputs": [
        {
          "output_type": "display_data",
          "data": {
            "image/png": "[encoded data removed]",
            "text/plain": [
              "<Figure size 432x288 with 1 Axes>"
            ]
          },
          "metadata": {
            "tags": [],
            "needs_background": "light"
          }
        }
      ]
    }
  ]
}